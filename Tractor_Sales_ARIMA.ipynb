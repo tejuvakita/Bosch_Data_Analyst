{
 "cells": [
  {
   "cell_type": "code",
   "execution_count": 1,
   "id": "025f1966",
   "metadata": {
    "id": "025f1966"
   },
   "outputs": [],
   "source": [
    "# Import Necessary Libraries"
   ]
  },
  {
   "cell_type": "code",
   "execution_count": 2,
   "id": "ebcb5802",
   "metadata": {
    "id": "ebcb5802"
   },
   "outputs": [],
   "source": [
    "import pandas                             as      pd\n",
    "import numpy                              as      np\n",
    "import matplotlib.pyplot                  as      plt\n",
    "import seaborn                            as      sns\n",
    "from   IPython.display                    import  display\n",
    "from   pylab                              import  rcParams\n",
    "from   datetime                           import  datetime, timedelta\n",
    "from sklearn.metrics                      import mean_squared_error\n",
    "from statsmodels.tsa.stattools            import  adfuller\n",
    "from statsmodels.tsa.stattools            import  pacf\n",
    "from statsmodels.tsa.stattools            import  acf\n",
    "from statsmodels.graphics.tsaplots        import  plot_pacf\n",
    "from statsmodels.graphics.tsaplots        import  plot_acf\n",
    "from statsmodels.graphics.gofplots        import  qqplot\n",
    "from statsmodels.tsa.seasonal             import  seasonal_decompose\n",
    "from statsmodels.tsa.arima.model          import  ARIMA\n",
    "from statsmodels.tsa.statespace.sarimax   import  SARIMAX\n",
    "import warnings\n",
    "warnings.filterwarnings('ignore')\n",
    "%matplotlib inline"
   ]
  },
  {
   "cell_type": "code",
   "execution_count": 3,
   "id": "b6f07bf4",
   "metadata": {
    "id": "b6f07bf4"
   },
   "outputs": [],
   "source": [
    "# Import Dataset"
   ]
  },
  {
   "cell_type": "code",
   "execution_count": 4,
   "id": "64a33ad3",
   "metadata": {
    "colab": {
     "base_uri": "https://localhost:8080/",
     "height": 365
    },
    "id": "64a33ad3",
    "outputId": "2bebd426-4ced-44f6-b15c-13c44a9860cf"
   },
   "outputs": [
    {
     "data": {
      "text/html": [
       "<div>\n",
       "<style scoped>\n",
       "    .dataframe tbody tr th:only-of-type {\n",
       "        vertical-align: middle;\n",
       "    }\n",
       "\n",
       "    .dataframe tbody tr th {\n",
       "        vertical-align: top;\n",
       "    }\n",
       "\n",
       "    .dataframe thead th {\n",
       "        text-align: right;\n",
       "    }\n",
       "</style>\n",
       "<table border=\"1\" class=\"dataframe\">\n",
       "  <thead>\n",
       "    <tr style=\"text-align: right;\">\n",
       "      <th></th>\n",
       "      <th>Date</th>\n",
       "      <th>Tractor sales</th>\n",
       "      <th>GDP</th>\n",
       "      <th>Agriculture,forestry  &amp; fishing</th>\n",
       "      <th>Seasonality</th>\n",
       "      <th>CPI General Index</th>\n",
       "      <th>M1 Rs. Million</th>\n",
       "      <th>M3 Rs. Million</th>\n",
       "      <th>Per capita GDP</th>\n",
       "      <th>Repo Rate</th>\n",
       "      <th>Purchase of Finish goods.</th>\n",
       "      <th>Foodgrains</th>\n",
       "      <th>Cereals</th>\n",
       "      <th>Pulses</th>\n",
       "      <th>Mechanization</th>\n",
       "      <th>Actual_rainfall</th>\n",
       "      <th>Deviation_from_Normal</th>\n",
       "      <th>Kharif_prices</th>\n",
       "      <th>IMD_LPA%</th>\n",
       "    </tr>\n",
       "  </thead>\n",
       "  <tbody>\n",
       "    <tr>\n",
       "      <th>0</th>\n",
       "      <td>2005-03-01</td>\n",
       "      <td>65845</td>\n",
       "      <td>8836970.0</td>\n",
       "      <td>1484010.0</td>\n",
       "      <td>1.193914</td>\n",
       "      <td>105.0</td>\n",
       "      <td>6497660.0</td>\n",
       "      <td>22456530.0</td>\n",
       "      <td>29259.3</td>\n",
       "      <td>0.0630</td>\n",
       "      <td>4664.1</td>\n",
       "      <td>1651.95</td>\n",
       "      <td>1903.44</td>\n",
       "      <td>576.8</td>\n",
       "      <td>18</td>\n",
       "      <td>1132.0</td>\n",
       "      <td>-4.51</td>\n",
       "      <td>560</td>\n",
       "      <td>99.47</td>\n",
       "    </tr>\n",
       "    <tr>\n",
       "      <th>1</th>\n",
       "      <td>2005-06-01</td>\n",
       "      <td>66941</td>\n",
       "      <td>8192260.0</td>\n",
       "      <td>1394040.0</td>\n",
       "      <td>0.900000</td>\n",
       "      <td>110.0</td>\n",
       "      <td>8263890.0</td>\n",
       "      <td>27194930.0</td>\n",
       "      <td>32840.2</td>\n",
       "      <td>0.0625</td>\n",
       "      <td>4603.9</td>\n",
       "      <td>1651.95</td>\n",
       "      <td>1903.44</td>\n",
       "      <td>576.8</td>\n",
       "      <td>18</td>\n",
       "      <td>1190.2</td>\n",
       "      <td>0.40</td>\n",
       "      <td>570</td>\n",
       "      <td>99.47</td>\n",
       "    </tr>\n",
       "    <tr>\n",
       "      <th>2</th>\n",
       "      <td>2005-09-01</td>\n",
       "      <td>61126</td>\n",
       "      <td>8220920.0</td>\n",
       "      <td>1130230.0</td>\n",
       "      <td>0.972246</td>\n",
       "      <td>116.6</td>\n",
       "      <td>8263890.0</td>\n",
       "      <td>27194930.0</td>\n",
       "      <td>32840.2</td>\n",
       "      <td>0.0625</td>\n",
       "      <td>3081.7</td>\n",
       "      <td>1651.95</td>\n",
       "      <td>1903.44</td>\n",
       "      <td>576.8</td>\n",
       "      <td>18</td>\n",
       "      <td>1190.2</td>\n",
       "      <td>0.40</td>\n",
       "      <td>570</td>\n",
       "      <td>99.47</td>\n",
       "    </tr>\n",
       "    <tr>\n",
       "      <th>3</th>\n",
       "      <td>2005-12-01</td>\n",
       "      <td>81410</td>\n",
       "      <td>9266960.0</td>\n",
       "      <td>1857500.0</td>\n",
       "      <td>0.967608</td>\n",
       "      <td>118.9</td>\n",
       "      <td>8263890.0</td>\n",
       "      <td>27194930.0</td>\n",
       "      <td>32840.2</td>\n",
       "      <td>0.0625</td>\n",
       "      <td>2747.8</td>\n",
       "      <td>1651.95</td>\n",
       "      <td>1903.44</td>\n",
       "      <td>576.8</td>\n",
       "      <td>18</td>\n",
       "      <td>1190.2</td>\n",
       "      <td>0.40</td>\n",
       "      <td>570</td>\n",
       "      <td>99.47</td>\n",
       "    </tr>\n",
       "    <tr>\n",
       "      <th>4</th>\n",
       "      <td>2006-03-01</td>\n",
       "      <td>83395</td>\n",
       "      <td>9752300.0</td>\n",
       "      <td>1563090.0</td>\n",
       "      <td>1.193914</td>\n",
       "      <td>119.0</td>\n",
       "      <td>8263890.0</td>\n",
       "      <td>27194930.0</td>\n",
       "      <td>32840.2</td>\n",
       "      <td>0.0625</td>\n",
       "      <td>2142.8</td>\n",
       "      <td>1715.48</td>\n",
       "      <td>1967.75</td>\n",
       "      <td>597.8</td>\n",
       "      <td>21</td>\n",
       "      <td>1190.2</td>\n",
       "      <td>0.40</td>\n",
       "      <td>570</td>\n",
       "      <td>99.37</td>\n",
       "    </tr>\n",
       "  </tbody>\n",
       "</table>\n",
       "</div>"
      ],
      "text/plain": [
       "        Date  Tractor sales        GDP  Agriculture,forestry  & fishing   \\\n",
       "0 2005-03-01          65845  8836970.0                         1484010.0   \n",
       "1 2005-06-01          66941  8192260.0                         1394040.0   \n",
       "2 2005-09-01          61126  8220920.0                         1130230.0   \n",
       "3 2005-12-01          81410  9266960.0                         1857500.0   \n",
       "4 2006-03-01          83395  9752300.0                         1563090.0   \n",
       "\n",
       "   Seasonality  CPI General Index  M1 Rs. Million  M3 Rs. Million  \\\n",
       "0     1.193914              105.0       6497660.0      22456530.0   \n",
       "1     0.900000              110.0       8263890.0      27194930.0   \n",
       "2     0.972246              116.6       8263890.0      27194930.0   \n",
       "3     0.967608              118.9       8263890.0      27194930.0   \n",
       "4     1.193914              119.0       8263890.0      27194930.0   \n",
       "\n",
       "   Per capita GDP   Repo Rate  Purchase of Finish goods.  Foodgrains  \\\n",
       "0          29259.3     0.0630                     4664.1     1651.95   \n",
       "1          32840.2     0.0625                     4603.9     1651.95   \n",
       "2          32840.2     0.0625                     3081.7     1651.95   \n",
       "3          32840.2     0.0625                     2747.8     1651.95   \n",
       "4          32840.2     0.0625                     2142.8     1715.48   \n",
       "\n",
       "   Cereals   Pulses   Mechanization  Actual_rainfall  Deviation_from_Normal  \\\n",
       "0   1903.44    576.8             18           1132.0                  -4.51   \n",
       "1   1903.44    576.8             18           1190.2                   0.40   \n",
       "2   1903.44    576.8             18           1190.2                   0.40   \n",
       "3   1903.44    576.8             18           1190.2                   0.40   \n",
       "4   1967.75    597.8             21           1190.2                   0.40   \n",
       "\n",
       "   Kharif_prices  IMD_LPA%  \n",
       "0            560     99.47  \n",
       "1            570     99.47  \n",
       "2            570     99.47  \n",
       "3            570     99.47  \n",
       "4            570     99.37  "
      ]
     },
     "execution_count": 4,
     "metadata": {},
     "output_type": "execute_result"
    }
   ],
   "source": [
    "df = pd.read_excel('Case_Study_2.xlsx')\n",
    "df.head()"
   ]
  },
  {
   "cell_type": "code",
   "execution_count": 5,
   "id": "0a32c59a",
   "metadata": {
    "id": "0a32c59a"
   },
   "outputs": [],
   "source": [
    "# Consider Date & Tractor sales for analysis"
   ]
  },
  {
   "cell_type": "code",
   "execution_count": 6,
   "id": "1091c208",
   "metadata": {
    "id": "1091c208",
    "outputId": "29e781c2-c178-4793-ecbd-aa9b99682f00"
   },
   "outputs": [
    {
     "data": {
      "text/html": [
       "<div>\n",
       "<style scoped>\n",
       "    .dataframe tbody tr th:only-of-type {\n",
       "        vertical-align: middle;\n",
       "    }\n",
       "\n",
       "    .dataframe tbody tr th {\n",
       "        vertical-align: top;\n",
       "    }\n",
       "\n",
       "    .dataframe thead th {\n",
       "        text-align: right;\n",
       "    }\n",
       "</style>\n",
       "<table border=\"1\" class=\"dataframe\">\n",
       "  <thead>\n",
       "    <tr style=\"text-align: right;\">\n",
       "      <th></th>\n",
       "      <th>Date</th>\n",
       "      <th>Tractor sales</th>\n",
       "    </tr>\n",
       "  </thead>\n",
       "  <tbody>\n",
       "    <tr>\n",
       "      <th>0</th>\n",
       "      <td>2005-03-01</td>\n",
       "      <td>65845</td>\n",
       "    </tr>\n",
       "    <tr>\n",
       "      <th>1</th>\n",
       "      <td>2005-06-01</td>\n",
       "      <td>66941</td>\n",
       "    </tr>\n",
       "    <tr>\n",
       "      <th>2</th>\n",
       "      <td>2005-09-01</td>\n",
       "      <td>61126</td>\n",
       "    </tr>\n",
       "    <tr>\n",
       "      <th>3</th>\n",
       "      <td>2005-12-01</td>\n",
       "      <td>81410</td>\n",
       "    </tr>\n",
       "    <tr>\n",
       "      <th>4</th>\n",
       "      <td>2006-03-01</td>\n",
       "      <td>83395</td>\n",
       "    </tr>\n",
       "  </tbody>\n",
       "</table>\n",
       "</div>"
      ],
      "text/plain": [
       "        Date  Tractor sales\n",
       "0 2005-03-01          65845\n",
       "1 2005-06-01          66941\n",
       "2 2005-09-01          61126\n",
       "3 2005-12-01          81410\n",
       "4 2006-03-01          83395"
      ]
     },
     "execution_count": 6,
     "metadata": {},
     "output_type": "execute_result"
    }
   ],
   "source": [
    "df2 = df[['Date','Tractor sales']]\n",
    "df2.head()"
   ]
  },
  {
   "cell_type": "code",
   "execution_count": 7,
   "id": "9fcd8b8a",
   "metadata": {
    "id": "9fcd8b8a",
    "outputId": "ddad9d51-2251-4a9e-e5b2-72ac7e60cd47"
   },
   "outputs": [
    {
     "data": {
      "text/html": [
       "<div>\n",
       "<style scoped>\n",
       "    .dataframe tbody tr th:only-of-type {\n",
       "        vertical-align: middle;\n",
       "    }\n",
       "\n",
       "    .dataframe tbody tr th {\n",
       "        vertical-align: top;\n",
       "    }\n",
       "\n",
       "    .dataframe thead th {\n",
       "        text-align: right;\n",
       "    }\n",
       "</style>\n",
       "<table border=\"1\" class=\"dataframe\">\n",
       "  <thead>\n",
       "    <tr style=\"text-align: right;\">\n",
       "      <th></th>\n",
       "      <th>Date</th>\n",
       "      <th>Tractor sales</th>\n",
       "    </tr>\n",
       "  </thead>\n",
       "  <tbody>\n",
       "    <tr>\n",
       "      <th>64</th>\n",
       "      <td>2021-03-01</td>\n",
       "      <td>267503</td>\n",
       "    </tr>\n",
       "    <tr>\n",
       "      <th>65</th>\n",
       "      <td>2021-06-01</td>\n",
       "      <td>256093</td>\n",
       "    </tr>\n",
       "    <tr>\n",
       "      <th>66</th>\n",
       "      <td>2021-09-01</td>\n",
       "      <td>247042</td>\n",
       "    </tr>\n",
       "    <tr>\n",
       "      <th>67</th>\n",
       "      <td>2021-12-01</td>\n",
       "      <td>258003</td>\n",
       "    </tr>\n",
       "    <tr>\n",
       "      <th>68</th>\n",
       "      <td>2022-03-01</td>\n",
       "      <td>209777</td>\n",
       "    </tr>\n",
       "  </tbody>\n",
       "</table>\n",
       "</div>"
      ],
      "text/plain": [
       "         Date  Tractor sales\n",
       "64 2021-03-01         267503\n",
       "65 2021-06-01         256093\n",
       "66 2021-09-01         247042\n",
       "67 2021-12-01         258003\n",
       "68 2022-03-01         209777"
      ]
     },
     "execution_count": 7,
     "metadata": {},
     "output_type": "execute_result"
    }
   ],
   "source": [
    "df2.tail()"
   ]
  },
  {
   "cell_type": "code",
   "execution_count": 8,
   "id": "cd6e178e",
   "metadata": {
    "id": "cd6e178e"
   },
   "outputs": [],
   "source": [
    "# Dataset has 69 records from March 2005 to March 2022. Time series given has quarterly frequency."
   ]
  },
  {
   "cell_type": "code",
   "execution_count": 9,
   "id": "fd3249f4",
   "metadata": {
    "id": "fd3249f4"
   },
   "outputs": [],
   "source": [
    "# Generating Timestamp column accordingly to dataset"
   ]
  },
  {
   "cell_type": "code",
   "execution_count": 10,
   "id": "b0e5fed0",
   "metadata": {
    "colab": {
     "base_uri": "https://localhost:8080/"
    },
    "id": "b0e5fed0",
    "outputId": "5f2b619a-306e-4c79-e318-b31467bc02e1"
   },
   "outputs": [
    {
     "data": {
      "text/plain": [
       "DatetimeIndex(['2005-03-31', '2005-06-30', '2005-09-30', '2005-12-31',\n",
       "               '2006-03-31', '2006-06-30', '2006-09-30', '2006-12-31',\n",
       "               '2007-03-31', '2007-06-30', '2007-09-30', '2007-12-31',\n",
       "               '2008-03-31', '2008-06-30', '2008-09-30', '2008-12-31',\n",
       "               '2009-03-31', '2009-06-30', '2009-09-30', '2009-12-31',\n",
       "               '2010-03-31', '2010-06-30', '2010-09-30', '2010-12-31',\n",
       "               '2011-03-31', '2011-06-30', '2011-09-30', '2011-12-31',\n",
       "               '2012-03-31', '2012-06-30', '2012-09-30', '2012-12-31',\n",
       "               '2013-03-31', '2013-06-30', '2013-09-30', '2013-12-31',\n",
       "               '2014-03-31', '2014-06-30', '2014-09-30', '2014-12-31',\n",
       "               '2015-03-31', '2015-06-30', '2015-09-30', '2015-12-31',\n",
       "               '2016-03-31', '2016-06-30', '2016-09-30', '2016-12-31',\n",
       "               '2017-03-31', '2017-06-30', '2017-09-30', '2017-12-31',\n",
       "               '2018-03-31', '2018-06-30', '2018-09-30', '2018-12-31',\n",
       "               '2019-03-31', '2019-06-30', '2019-09-30', '2019-12-31',\n",
       "               '2020-03-31', '2020-06-30', '2020-09-30', '2020-12-31',\n",
       "               '2021-03-31', '2021-06-30', '2021-09-30', '2021-12-31',\n",
       "               '2022-03-31'],\n",
       "              dtype='datetime64[ns]', freq='Q-DEC')"
      ]
     },
     "execution_count": 10,
     "metadata": {},
     "output_type": "execute_result"
    }
   ],
   "source": [
    "quarters= pd.date_range(start='2/01/2005', end='4/01/2022', freq='Q')\n",
    "quarters"
   ]
  },
  {
   "cell_type": "code",
   "execution_count": 11,
   "id": "02507b00",
   "metadata": {
    "id": "02507b00"
   },
   "outputs": [],
   "source": [
    "# Creating Time_Stamp column with quarters"
   ]
  },
  {
   "cell_type": "code",
   "execution_count": 12,
   "id": "96b02059",
   "metadata": {
    "id": "96b02059"
   },
   "outputs": [],
   "source": [
    "df2['Time_Stamp']=pd.DataFrame(quarters)"
   ]
  },
  {
   "cell_type": "code",
   "execution_count": 13,
   "id": "53201c5e",
   "metadata": {
    "id": "53201c5e",
    "outputId": "f124bd75-5011-4ac7-f298-da1b963a28b4"
   },
   "outputs": [
    {
     "data": {
      "text/html": [
       "<div>\n",
       "<style scoped>\n",
       "    .dataframe tbody tr th:only-of-type {\n",
       "        vertical-align: middle;\n",
       "    }\n",
       "\n",
       "    .dataframe tbody tr th {\n",
       "        vertical-align: top;\n",
       "    }\n",
       "\n",
       "    .dataframe thead th {\n",
       "        text-align: right;\n",
       "    }\n",
       "</style>\n",
       "<table border=\"1\" class=\"dataframe\">\n",
       "  <thead>\n",
       "    <tr style=\"text-align: right;\">\n",
       "      <th></th>\n",
       "      <th>Date</th>\n",
       "      <th>Tractor sales</th>\n",
       "      <th>Time_Stamp</th>\n",
       "    </tr>\n",
       "  </thead>\n",
       "  <tbody>\n",
       "    <tr>\n",
       "      <th>0</th>\n",
       "      <td>2005-03-01</td>\n",
       "      <td>65845</td>\n",
       "      <td>2005-03-31</td>\n",
       "    </tr>\n",
       "    <tr>\n",
       "      <th>1</th>\n",
       "      <td>2005-06-01</td>\n",
       "      <td>66941</td>\n",
       "      <td>2005-06-30</td>\n",
       "    </tr>\n",
       "    <tr>\n",
       "      <th>2</th>\n",
       "      <td>2005-09-01</td>\n",
       "      <td>61126</td>\n",
       "      <td>2005-09-30</td>\n",
       "    </tr>\n",
       "    <tr>\n",
       "      <th>3</th>\n",
       "      <td>2005-12-01</td>\n",
       "      <td>81410</td>\n",
       "      <td>2005-12-31</td>\n",
       "    </tr>\n",
       "    <tr>\n",
       "      <th>4</th>\n",
       "      <td>2006-03-01</td>\n",
       "      <td>83395</td>\n",
       "      <td>2006-03-31</td>\n",
       "    </tr>\n",
       "  </tbody>\n",
       "</table>\n",
       "</div>"
      ],
      "text/plain": [
       "        Date  Tractor sales Time_Stamp\n",
       "0 2005-03-01          65845 2005-03-31\n",
       "1 2005-06-01          66941 2005-06-30\n",
       "2 2005-09-01          61126 2005-09-30\n",
       "3 2005-12-01          81410 2005-12-31\n",
       "4 2006-03-01          83395 2006-03-31"
      ]
     },
     "execution_count": 13,
     "metadata": {},
     "output_type": "execute_result"
    }
   ],
   "source": [
    "df2.head()"
   ]
  },
  {
   "cell_type": "code",
   "execution_count": 14,
   "id": "e86258fc",
   "metadata": {
    "id": "e86258fc"
   },
   "outputs": [],
   "source": [
    "# Dropping Date column since we have Time_Stamp & set index to Time_Stamp"
   ]
  },
  {
   "cell_type": "code",
   "execution_count": 15,
   "id": "d3a77207",
   "metadata": {
    "id": "d3a77207",
    "outputId": "e88cd755-9092-4242-bfbd-02f7b5a02daf"
   },
   "outputs": [
    {
     "data": {
      "text/html": [
       "<div>\n",
       "<style scoped>\n",
       "    .dataframe tbody tr th:only-of-type {\n",
       "        vertical-align: middle;\n",
       "    }\n",
       "\n",
       "    .dataframe tbody tr th {\n",
       "        vertical-align: top;\n",
       "    }\n",
       "\n",
       "    .dataframe thead th {\n",
       "        text-align: right;\n",
       "    }\n",
       "</style>\n",
       "<table border=\"1\" class=\"dataframe\">\n",
       "  <thead>\n",
       "    <tr style=\"text-align: right;\">\n",
       "      <th></th>\n",
       "      <th>Tractor sales</th>\n",
       "    </tr>\n",
       "    <tr>\n",
       "      <th>Time_Stamp</th>\n",
       "      <th></th>\n",
       "    </tr>\n",
       "  </thead>\n",
       "  <tbody>\n",
       "    <tr>\n",
       "      <th>2005-03-31</th>\n",
       "      <td>65845</td>\n",
       "    </tr>\n",
       "    <tr>\n",
       "      <th>2005-06-30</th>\n",
       "      <td>66941</td>\n",
       "    </tr>\n",
       "    <tr>\n",
       "      <th>2005-09-30</th>\n",
       "      <td>61126</td>\n",
       "    </tr>\n",
       "    <tr>\n",
       "      <th>2005-12-31</th>\n",
       "      <td>81410</td>\n",
       "    </tr>\n",
       "    <tr>\n",
       "      <th>2006-03-31</th>\n",
       "      <td>83395</td>\n",
       "    </tr>\n",
       "  </tbody>\n",
       "</table>\n",
       "</div>"
      ],
      "text/plain": [
       "            Tractor sales\n",
       "Time_Stamp               \n",
       "2005-03-31          65845\n",
       "2005-06-30          66941\n",
       "2005-09-30          61126\n",
       "2005-12-31          81410\n",
       "2006-03-31          83395"
      ]
     },
     "execution_count": 15,
     "metadata": {},
     "output_type": "execute_result"
    }
   ],
   "source": [
    "df2.drop(['Date'],axis=1,inplace=True)\n",
    "df2=df2.set_index('Time_Stamp')\n",
    "df2.head()"
   ]
  },
  {
   "cell_type": "code",
   "execution_count": 16,
   "id": "1051e62c",
   "metadata": {
    "id": "1051e62c"
   },
   "outputs": [],
   "source": [
    "# Renaming Tractor sales to Tractor_sales"
   ]
  },
  {
   "cell_type": "code",
   "execution_count": 17,
   "id": "4b84f430",
   "metadata": {
    "id": "4b84f430"
   },
   "outputs": [],
   "source": [
    "df2.rename(columns = {'Tractor sales':'Tractor_sales'}, inplace = True)"
   ]
  },
  {
   "cell_type": "code",
   "execution_count": 18,
   "id": "f96f9a44",
   "metadata": {
    "id": "f96f9a44"
   },
   "outputs": [],
   "source": [
    "# Plot graph for Tractor_sales"
   ]
  },
  {
   "cell_type": "code",
   "execution_count": 19,
   "id": "450eba82",
   "metadata": {
    "id": "450eba82",
    "outputId": "7920c741-ae44-42f5-a64d-5bd4383db07d"
   },
   "outputs": [
    {
     "data": {
      "image/png": "[encoded data removed]",
      "text/plain": [
       "<Figure size 640x480 with 1 Axes>"
      ]
     },
     "metadata": {},
     "output_type": "display_data"
    }
   ],
   "source": [
    "df2.plot()\n",
    "plt.show()"
   ]
  },
  {
   "cell_type": "code",
   "execution_count": 20,
   "id": "94b94083",
   "metadata": {
    "id": "94b94083"
   },
   "outputs": [],
   "source": [
    "# From the graph, we can say that tractor sales has increasing trend.\n",
    "# Tractor sales achieved its peak in yeaar 2021.\n"
   ]
  },
  {
   "cell_type": "code",
   "execution_count": 21,
   "id": "00a1e3e6",
   "metadata": {
    "id": "00a1e3e6"
   },
   "outputs": [],
   "source": [
    "# Decompose the time series multiplicatively"
   ]
  },
  {
   "cell_type": "code",
   "execution_count": 22,
   "id": "8457c4d8",
   "metadata": {
    "id": "8457c4d8",
    "outputId": "07830bd1-f511-44ac-b757-b4f41a2eead6"
   },
   "outputs": [
    {
     "data": {
      "image/png": "[encoded data removed]",
      "text/plain": [
       "<Figure size 640x480 with 4 Axes>"
      ]
     },
     "metadata": {},
     "output_type": "display_data"
    }
   ],
   "source": [
    "df2_mul_decompose = seasonal_decompose(df2, model = \"multiplicative\",period=4)\n",
    "df2_mul_decompose.plot()\n",
    "plt.show()"
   ]
  },
  {
   "cell_type": "code",
   "execution_count": 23,
   "id": "189937a7",
   "metadata": {
    "id": "189937a7"
   },
   "outputs": [],
   "source": [
    "# From these graphs, we can say that trend component is not so smooth . There are ups & downs.\n",
    "# period = 4 means there are 4 quaters in a year."
   ]
  },
  {
   "cell_type": "markdown",
   "id": "9c519496",
   "metadata": {
    "id": "9c519496"
   },
   "source": [
    "## Stationarity test"
   ]
  },
  {
   "cell_type": "code",
   "execution_count": 24,
   "id": "2cf293df",
   "metadata": {
    "id": "2cf293df"
   },
   "outputs": [],
   "source": [
    "# Adfuller test tells us whether time series in stationary."
   ]
  },
  {
   "cell_type": "code",
   "execution_count": 25,
   "id": "49051374",
   "metadata": {
    "id": "49051374",
    "outputId": "7c0cff25-e0d1-4f52-a04f-397e9686f5e3"
   },
   "outputs": [
    {
     "data": {
      "text/plain": [
       "(-0.4677685372748559,\n",
       " 0.8981542700767603,\n",
       " 11,\n",
       " 57,\n",
       " {'1%': -3.5506699942762414,\n",
       "  '5%': -2.913766394626147,\n",
       "  '10%': -2.5946240473991997},\n",
       " 1304.1396576238662)"
      ]
     },
     "execution_count": 25,
     "metadata": {},
     "output_type": "execute_result"
    }
   ],
   "source": [
    "adfuller(df2['Tractor_sales'].values)"
   ]
  },
  {
   "cell_type": "code",
   "execution_count": 26,
   "id": "4530a11f",
   "metadata": {
    "id": "4530a11f"
   },
   "outputs": [],
   "source": [
    "# Hypothesis Testing for Adfuller test\n",
    "\n",
    "# H0 : p value < 0.05 . Time series is stationary\n",
    "\n",
    "# H1 :p value > 0.05 . Time series is non-stationary"
   ]
  },
  {
   "cell_type": "code",
   "execution_count": 27,
   "id": "30cf8e7c",
   "metadata": {
    "id": "30cf8e7c"
   },
   "outputs": [],
   "source": [
    "# Result of adfuller test .\n",
    "# Second row shows p-value which is greater than 0.05, hence we fail to reject null hypothesis. So, series is non-stationary"
   ]
  },
  {
   "cell_type": "code",
   "execution_count": 28,
   "id": "66fa95d0",
   "metadata": {
    "id": "66fa95d0"
   },
   "outputs": [],
   "source": [
    "# First Order differncing i.e. differencing by 1 . So"
   ]
  },
  {
   "cell_type": "code",
   "execution_count": 29,
   "id": "bb0bc0da",
   "metadata": {
    "id": "bb0bc0da",
    "outputId": "ff0c498c-97ad-41d0-9e33-94253908b9d1"
   },
   "outputs": [
    {
     "data": {
      "text/plain": [
       "(-2.9528617273437945,\n",
       " 0.03953721307886034,\n",
       " 10,\n",
       " 57,\n",
       " {'1%': -3.5506699942762414,\n",
       "  '5%': -2.913766394626147,\n",
       "  '10%': -2.5946240473991997},\n",
       " 1280.7282376307023)"
      ]
     },
     "execution_count": 29,
     "metadata": {},
     "output_type": "execute_result"
    }
   ],
   "source": [
    "df_diff = df2.diff(periods=1).dropna()\n",
    "adfuller(df_diff['Tractor_sales'].values)"
   ]
  },
  {
   "cell_type": "code",
   "execution_count": 30,
   "id": "13cda9c9",
   "metadata": {
    "id": "13cda9c9"
   },
   "outputs": [],
   "source": [
    "# Second row shows p-value which is less than 0.05, hence we reject null hypothesis. So, series is stationary"
   ]
  },
  {
   "cell_type": "code",
   "execution_count": 31,
   "id": "7defb32b",
   "metadata": {
    "id": "7defb32b",
    "outputId": "0755d28a-c569-48ac-ae9c-00dd2ea353d5"
   },
   "outputs": [
    {
     "data": {
      "image/png": "[encoded data removed]",
      "text/plain": [
       "<Figure size 640x480 with 1 Axes>"
      ]
     },
     "metadata": {},
     "output_type": "display_data"
    }
   ],
   "source": [
    "df_diff.plot(grid= True)\n",
    "plt.show()"
   ]
  },
  {
   "cell_type": "code",
   "execution_count": 32,
   "id": "ebc7f492",
   "metadata": {
    "id": "ebc7f492"
   },
   "outputs": [],
   "source": [
    "# From df_diff graph, we can say that from 2005 to 2012 tractor sales didn't vary much but from 2012 to 2022 tractor sales\n",
    "# is varying a lot compared to previous record"
   ]
  },
  {
   "cell_type": "markdown",
   "id": "780d0025",
   "metadata": {
    "id": "780d0025"
   },
   "source": [
    "## ACF-PACF"
   ]
  },
  {
   "cell_type": "code",
   "execution_count": 33,
   "id": "7fd8d5c1",
   "metadata": {
    "id": "7fd8d5c1",
    "outputId": "ba16eb6e-6e1b-44fc-c473-496d4a7021cd"
   },
   "outputs": [
    {
     "data": {
      "image/png": "[encoded data removed]",
      "text/plain": [
       "<Figure size 640x480 with 1 Axes>"
      ]
     },
     "metadata": {},
     "output_type": "display_data"
    },
    {
     "data": {
      "image/png": "[encoded data removed]",
      "text/plain": [
       "<Figure size 640x480 with 1 Axes>"
      ]
     },
     "metadata": {},
     "output_type": "display_data"
    }
   ],
   "source": [
    "plot_acf(df2);\n",
    "plot_pacf(df2);"
   ]
  },
  {
   "cell_type": "code",
   "execution_count": 34,
   "id": "728a1b35",
   "metadata": {
    "id": "728a1b35",
    "outputId": "56679efd-f20a-47ec-8d07-b5a7f31edbe1"
   },
   "outputs": [
    {
     "data": {
      "image/png": "[encoded data removed]",
      "text/plain": [
       "<Figure size 640x480 with 1 Axes>"
      ]
     },
     "metadata": {},
     "output_type": "display_data"
    },
    {
     "data": {
      "image/png": "[encoded data removed]",
      "text/plain": [
       "<Figure size 640x480 with 1 Axes>"
      ]
     },
     "metadata": {},
     "output_type": "display_data"
    }
   ],
   "source": [
    "plot_acf(df_diff);\n",
    "plot_pacf(df_diff);"
   ]
  },
  {
   "cell_type": "code",
   "execution_count": 35,
   "id": "313cec86",
   "metadata": {
    "id": "313cec86"
   },
   "outputs": [],
   "source": [
    "# From these plot , to predict future t , t-1 to t-8 past values are required"
   ]
  },
  {
   "cell_type": "code",
   "execution_count": null,
   "id": "02a74f45",
   "metadata": {
    "id": "02a74f45"
   },
   "outputs": [],
   "source": []
  },
  {
   "cell_type": "code",
   "execution_count": 36,
   "id": "4d3ff7da",
   "metadata": {
    "id": "4d3ff7da"
   },
   "outputs": [],
   "source": [
    "# Train test split"
   ]
  },
  {
   "cell_type": "code",
   "execution_count": 37,
   "id": "a522cdd8",
   "metadata": {
    "id": "a522cdd8"
   },
   "outputs": [],
   "source": [
    "# train data from March 2012 to March 2019"
   ]
  },
  {
   "cell_type": "code",
   "execution_count": 38,
   "id": "f118b392",
   "metadata": {
    "id": "f118b392"
   },
   "outputs": [],
   "source": [
    "# test data from June 2019 to March 2022"
   ]
  },
  {
   "cell_type": "code",
   "execution_count": 39,
   "id": "b9dd277a",
   "metadata": {
    "id": "b9dd277a"
   },
   "outputs": [],
   "source": [
    "train_start = datetime(2012,3,31)\n",
    "train_end= datetime(2019,3,31)\n",
    "test_start = datetime(2019,6,30)\n",
    "test_end= datetime(2022,3,31)"
   ]
  },
  {
   "cell_type": "code",
   "execution_count": 40,
   "id": "6f0abb6c",
   "metadata": {
    "id": "6f0abb6c"
   },
   "outputs": [],
   "source": [
    "train = df2[train_start:train_end]\n",
    "test  = df2[test_start:test_end]"
   ]
  },
  {
   "cell_type": "code",
   "execution_count": 41,
   "id": "b48df240",
   "metadata": {
    "id": "b48df240",
    "outputId": "8bc2d49e-9e14-4b07-8871-18fe4618c3db"
   },
   "outputs": [
    {
     "data": {
      "text/plain": [
       "(29, 1)"
      ]
     },
     "execution_count": 41,
     "metadata": {},
     "output_type": "execute_result"
    }
   ],
   "source": [
    "train.shape"
   ]
  },
  {
   "cell_type": "code",
   "execution_count": 42,
   "id": "75502765",
   "metadata": {
    "id": "75502765",
    "outputId": "224a3822-cafc-426a-9e2d-e0f6bd3b3efb"
   },
   "outputs": [
    {
     "data": {
      "text/plain": [
       "(12, 1)"
      ]
     },
     "execution_count": 42,
     "metadata": {},
     "output_type": "execute_result"
    }
   ],
   "source": [
    "test.shape"
   ]
  },
  {
   "cell_type": "markdown",
   "id": "dc2547c4",
   "metadata": {
    "id": "dc2547c4"
   },
   "source": [
    "# ARIMA"
   ]
  },
  {
   "cell_type": "code",
   "execution_count": 43,
   "id": "f9115c9f",
   "metadata": {
    "id": "f9115c9f",
    "outputId": "3cfa2b7d-30eb-485d-af62-550589bd5e94"
   },
   "outputs": [
    {
     "name": "stdout",
     "output_type": "stream",
     "text": [
      "parameter combinations for the Model\n",
      "Model: (0, 1, 1)\n",
      "Model: (0, 1, 2)\n",
      "Model: (0, 1, 3)\n",
      "Model: (1, 1, 0)\n",
      "Model: (1, 1, 1)\n",
      "Model: (1, 1, 2)\n",
      "Model: (1, 1, 3)\n",
      "Model: (2, 1, 0)\n",
      "Model: (2, 1, 1)\n",
      "Model: (2, 1, 2)\n",
      "Model: (2, 1, 3)\n",
      "Model: (3, 1, 0)\n",
      "Model: (3, 1, 1)\n",
      "Model: (3, 1, 2)\n",
      "Model: (3, 1, 3)\n"
     ]
    }
   ],
   "source": [
    "import itertools\n",
    "p = q = range(0, 4)\n",
    "d= range(1,2)\n",
    "pdq = list(itertools.product(p, d, q))\n",
    "print('parameter combinations for the Model')\n",
    "for i in range(1,len(pdq)):\n",
    "    print('Model: {}'.format(pdq[i]))"
   ]
  },
  {
   "cell_type": "code",
   "execution_count": 44,
   "id": "fd7ec467",
   "metadata": {
    "id": "fd7ec467",
    "outputId": "a1936bf9-bdd8-4adc-f6c6-8f4b71837c0b"
   },
   "outputs": [
    {
     "data": {
      "text/html": [
       "<div>\n",
       "<style scoped>\n",
       "    .dataframe tbody tr th:only-of-type {\n",
       "        vertical-align: middle;\n",
       "    }\n",
       "\n",
       "    .dataframe tbody tr th {\n",
       "        vertical-align: top;\n",
       "    }\n",
       "\n",
       "    .dataframe thead th {\n",
       "        text-align: right;\n",
       "    }\n",
       "</style>\n",
       "<table border=\"1\" class=\"dataframe\">\n",
       "  <thead>\n",
       "    <tr style=\"text-align: right;\">\n",
       "      <th></th>\n",
       "      <th>param</th>\n",
       "      <th>AIC</th>\n",
       "    </tr>\n",
       "  </thead>\n",
       "  <tbody>\n",
       "  </tbody>\n",
       "</table>\n",
       "</div>"
      ],
      "text/plain": [
       "Empty DataFrame\n",
       "Columns: [param, AIC]\n",
       "Index: []"
      ]
     },
     "execution_count": 44,
     "metadata": {},
     "output_type": "execute_result"
    }
   ],
   "source": [
    "dfObj1 = pd.DataFrame(columns=['param', 'AIC'])\n",
    "dfObj1"
   ]
  },
  {
   "cell_type": "code",
   "execution_count": 45,
   "id": "ebcf5d72",
   "metadata": {
    "id": "ebcf5d72",
    "outputId": "a65ad6ef-f86e-4ea1-dc75-67bdac271f67"
   },
   "outputs": [
    {
     "name": "stdout",
     "output_type": "stream",
     "text": [
      "ARIMA(0, 1, 0) - AIC:670.7266475386814\n",
      "ARIMA(0, 1, 1) - AIC:664.8344705801816\n",
      "ARIMA(0, 1, 2) - AIC:665.4287913134033\n",
      "ARIMA(0, 1, 3) - AIC:666.6194284828069\n",
      "ARIMA(1, 1, 0) - AIC:664.8186244801113\n",
      "ARIMA(1, 1, 1) - AIC:661.0629283440596\n",
      "ARIMA(1, 1, 2) - AIC:665.2243428278466\n",
      "ARIMA(1, 1, 3) - AIC:666.241059080148\n",
      "ARIMA(2, 1, 0) - AIC:666.1999318766932\n",
      "ARIMA(2, 1, 1) - AIC:668.962498342946\n",
      "ARIMA(2, 1, 2) - AIC:667.1562728540241\n",
      "ARIMA(2, 1, 3) - AIC:665.9437920449469\n",
      "ARIMA(3, 1, 0) - AIC:669.2035066806419\n",
      "ARIMA(3, 1, 1) - AIC:668.8087476189629\n",
      "ARIMA(3, 1, 2) - AIC:667.0752524642621\n",
      "ARIMA(3, 1, 3) - AIC:684.961972874093\n"
     ]
    }
   ],
   "source": [
    "for param in pdq:\n",
    "            try:\n",
    "                mod = ARIMA(train, order=param)\n",
    "                results_Arima = mod.fit()\n",
    "                print('ARIMA{} - AIC:{}'.format(param, results_Arima.aic))\n",
    "                dfObj1 = dfObj1.append({'param':param, 'AIC': results_Arima.aic}, ignore_index=True)\n",
    "\n",
    "            except:\n",
    "                continue"
   ]
  },
  {
   "cell_type": "code",
   "execution_count": 46,
   "id": "ebee8cc5",
   "metadata": {
    "id": "ebee8cc5"
   },
   "outputs": [],
   "source": [
    "# fitting ARIMA model with seasonal_order of (2,1,3,8)"
   ]
  },
  {
   "cell_type": "code",
   "execution_count": 47,
   "id": "d0fc8b31",
   "metadata": {
    "id": "d0fc8b31"
   },
   "outputs": [],
   "source": [
    "results_Arima = ARIMA(train,seasonal_order=(2,1,3,8)).fit()"
   ]
  },
  {
   "cell_type": "code",
   "execution_count": 48,
   "id": "03236b7d",
   "metadata": {
    "id": "03236b7d",
    "outputId": "c10f9a61-917d-485b-8c39-b84384ab64a4"
   },
   "outputs": [
    {
     "name": "stdout",
     "output_type": "stream",
     "text": [
      "                                   SARIMAX Results                                   \n",
      "=====================================================================================\n",
      "Dep. Variable:                 Tractor_sales   No. Observations:                   29\n",
      "Model:             ARIMA(2, 1, [1, 2, 3], 8)   Log Likelihood                -244.330\n",
      "Date:                       Thu, 02 Nov 2023   AIC                            500.661\n",
      "Time:                               00:26:32   BIC                            506.928\n",
      "Sample:                           03-31-2012   HQIC                           502.021\n",
      "                                - 03-31-2019                                         \n",
      "Covariance Type:                         opg                                         \n",
      "==============================================================================\n",
      "                 coef    std err          z      P>|z|      [0.025      0.975]\n",
      "------------------------------------------------------------------------------\n",
      "ar.S.L8       -0.1562   4.25e+05  -3.67e-07      1.000   -8.34e+05    8.34e+05\n",
      "ar.S.L16       0.2213   3.36e+04   6.58e-06      1.000   -6.59e+04    6.59e+04\n",
      "ma.S.L8        0.0305   4.98e+05   6.13e-08      1.000   -9.76e+05    9.76e+05\n",
      "ma.S.L16      -0.0712   1.02e+05  -6.97e-07      1.000      -2e+05       2e+05\n",
      "ma.S.L24       0.4151   6.85e+04   6.06e-06      1.000   -1.34e+05    1.34e+05\n",
      "sigma2      1.157e+09      1.916   6.04e+08      0.000    1.16e+09    1.16e+09\n",
      "===================================================================================\n",
      "Ljung-Box (L1) (Q):                   9.74   Jarque-Bera (JB):                 0.26\n",
      "Prob(Q):                              0.00   Prob(JB):                         0.88\n",
      "Heteroskedasticity (H):               0.90   Skew:                             0.24\n",
      "Prob(H) (two-sided):                  0.90   Kurtosis:                         3.27\n",
      "===================================================================================\n",
      "\n",
      "Warnings:\n",
      "[1] Covariance matrix calculated using the outer product of gradients (complex-step).\n",
      "[2] Covariance matrix is singular or near-singular, with condition number 5.09e+27. Standard errors may be unstable.\n"
     ]
    }
   ],
   "source": [
    "print(results_Arima.summary())"
   ]
  },
  {
   "cell_type": "code",
   "execution_count": 49,
   "id": "9dfae940",
   "metadata": {
    "id": "9dfae940"
   },
   "outputs": [],
   "source": [
    "pred_start=test.index[0]\n",
    "pred_end=test.index[-1]"
   ]
  },
  {
   "cell_type": "code",
   "execution_count": 50,
   "id": "d863a793",
   "metadata": {
    "id": "d863a793"
   },
   "outputs": [],
   "source": [
    "# Forecasting test data"
   ]
  },
  {
   "cell_type": "code",
   "execution_count": 51,
   "id": "491fe6d6",
   "metadata": {
    "id": "491fe6d6"
   },
   "outputs": [],
   "source": [
    "ARIMA_predictions=results_Arima.forecast(len(test))"
   ]
  },
  {
   "cell_type": "code",
   "execution_count": 52,
   "id": "ec80678c",
   "metadata": {
    "id": "ec80678c",
    "outputId": "2e7d59f2-76bb-4646-cdbc-39dce74498aa"
   },
   "outputs": [
    {
     "data": {
      "text/plain": [
       "2019-06-30    252883.210005\n",
       "2019-09-30    247270.257677\n",
       "2019-12-31    256501.990994\n",
       "2020-03-31    186949.935232\n",
       "2020-06-30    254251.113578\n",
       "2020-09-30    215312.698922\n",
       "2020-12-31    243650.956407\n",
       "2021-03-31    175758.787123\n",
       "2021-06-30    246952.362512\n",
       "2021-09-30    246623.031913\n",
       "2021-12-31    247224.179043\n",
       "2022-03-31    184744.129973\n",
       "Freq: Q-DEC, Name: predicted_mean, dtype: float64"
      ]
     },
     "execution_count": 52,
     "metadata": {},
     "output_type": "execute_result"
    }
   ],
   "source": [
    "ARIMA_predictions"
   ]
  },
  {
   "cell_type": "code",
   "execution_count": 53,
   "id": "a6a4dfdf",
   "metadata": {
    "id": "a6a4dfdf"
   },
   "outputs": [],
   "source": [
    "ARIMA_pred=pd.DataFrame(ARIMA_predictions)"
   ]
  },
  {
   "cell_type": "code",
   "execution_count": 54,
   "id": "2775eaf0",
   "metadata": {
    "id": "2775eaf0"
   },
   "outputs": [],
   "source": [
    "# Plot of graph between train ,test & forecast data"
   ]
  },
  {
   "cell_type": "code",
   "execution_count": 55,
   "id": "35443449",
   "metadata": {
    "id": "35443449",
    "outputId": "ad673ffe-1d6c-4f78-e27b-e1f8021bb16a"
   },
   "outputs": [
    {
     "data": {
      "image/png": "[encoded data removed]",
      "text/plain": [
       "<Figure size 640x480 with 1 Axes>"
      ]
     },
     "metadata": {},
     "output_type": "display_data"
    }
   ],
   "source": [
    "plt.plot(train,label='Training Data')\n",
    "plt.plot(test,label='Test Data')\n",
    "plt.plot(test.index,ARIMA_predictions,label='Predicted Data - ARIMA')\n",
    "plt.legend(loc='best')\n",
    "plt.grid();"
   ]
  },
  {
   "cell_type": "code",
   "execution_count": 56,
   "id": "fa957471",
   "metadata": {
    "id": "fa957471"
   },
   "outputs": [],
   "source": [
    "# Calculating RMSE & MAPE"
   ]
  },
  {
   "cell_type": "code",
   "execution_count": 57,
   "id": "7b743ca9",
   "metadata": {
    "id": "7b743ca9",
    "outputId": "ffab1fcf-833d-4c54-a703-a6486c8ad193"
   },
   "outputs": [
    {
     "name": "stdout",
     "output_type": "stream",
     "text": [
      "RMSE: 46605.78870824591\n",
      "MAPE nan\n"
     ]
    }
   ],
   "source": [
    "print('RMSE:', np.sqrt(mean_squared_error(test.Tractor_sales, ARIMA_pred)))\n",
    "\n",
    "def MAPE(y_true, y_pred):\n",
    "    return np.mean((np.abs(y_true-y_pred)) / (y_true) * 100)\n",
    "\n",
    "print('MAPE', MAPE(test.Tractor_sales, ARIMA_pred))"
   ]
  },
  {
   "cell_type": "markdown",
   "id": "5b35cefc",
   "metadata": {
    "id": "bdeb9a24"
   },
   "source": [
    "# Forecasting tractor sales for next 5 years"
   ]
  },
  {
   "cell_type": "code",
   "execution_count": 59,
   "id": "9429e882",
   "metadata": {
    "id": "9429e882"
   },
   "outputs": [],
   "source": [
    "results_Arima_forecast =ARIMA(df2,seasonal_order=(2,1,3,4)).fit()"
   ]
  },
  {
   "cell_type": "code",
   "execution_count": 60,
   "id": "45dba3b5",
   "metadata": {
    "id": "45dba3b5"
   },
   "outputs": [],
   "source": [
    "ARIMA_forecast =results_Arima_forecast.forecast(20)"
   ]
  },
  {
   "cell_type": "code",
   "execution_count": 61,
   "id": "99a96583",
   "metadata": {
    "id": "99a96583",
    "outputId": "31afbfe4-e205-4bde-eb44-d9b158844d7b"
   },
   "outputs": [
    {
     "data": {
      "text/plain": [
       "2022-06-30    248938.611087\n",
       "2022-09-30    247274.650731\n",
       "2022-12-31    263749.813242\n",
       "2023-03-31    215433.475381\n",
       "2023-06-30    247032.357711\n",
       "2023-09-30    268571.623325\n",
       "2023-12-31    289695.701414\n",
       "2024-03-31    242325.886295\n",
       "2024-06-30    262013.720684\n",
       "2024-09-30    270844.258563\n",
       "2024-12-31    288284.866692\n",
       "2025-03-31    237150.492975\n",
       "2025-06-30    264664.735320\n",
       "2025-09-30    286138.543547\n",
       "2025-12-31    305811.254386\n",
       "2026-03-31    254333.261056\n",
       "2026-06-30    275702.096177\n",
       "2026-09-30    291755.386579\n",
       "2026-12-31    309477.817894\n",
       "2027-03-31    255311.712771\n",
       "Freq: Q-DEC, Name: predicted_mean, dtype: float64"
      ]
     },
     "execution_count": 61,
     "metadata": {},
     "output_type": "execute_result"
    }
   ],
   "source": [
    "ARIMA_forecast"
   ]
  },
  {
   "cell_type": "code",
   "execution_count": 62,
   "id": "95b8c897",
   "metadata": {
    "id": "95b8c897"
   },
   "outputs": [],
   "source": [
    "ARIMA_forecast=pd.DataFrame(ARIMA_forecast)"
   ]
  },
  {
   "cell_type": "markdown",
   "id": "aa442a08",
   "metadata": {
    "id": "cfac5523"
   },
   "source": [
    "# Plot between Past data & forecasted data"
   ]
  },
  {
   "cell_type": "code",
   "execution_count": 64,
   "id": "e0538980",
   "metadata": {
    "id": "e0538980",
    "outputId": "638dff4a-6a07-4d8c-d8a1-136e1f31829d"
   },
   "outputs": [
    {
     "data": {
      "image/png": "[encoded data removed]",
      "text/plain": [
       "<Figure size 640x480 with 1 Axes>"
      ]
     },
     "metadata": {},
     "output_type": "display_data"
    }
   ],
   "source": [
    "plt.plot(df2,label='Past Data')\n",
    "plt.plot(ARIMA_forecast,label='Forecasted Data - ARIMA')\n",
    "plt.legend(loc='best')\n",
    "plt.grid();"
   ]
  },
  {
   "cell_type": "markdown",
   "id": "a3ce88e8",
   "metadata": {},
   "source": [
    "# Multivariate Time Series Analysis"
   ]
  },
  {
   "cell_type": "code",
   "execution_count": 65,
   "id": "7d6c99dd",
   "metadata": {
    "id": "7d6c99dd"
   },
   "outputs": [],
   "source": [
    "from prophet import Prophet"
   ]
  },
  {
   "cell_type": "code",
   "execution_count": 66,
   "id": "f13bfcf1-9a7b-4f6f-9890-a70ce6b0ce77",
   "metadata": {
    "colab": {
     "base_uri": "https://localhost:8080/",
     "height": 365
    },
    "id": "f13bfcf1-9a7b-4f6f-9890-a70ce6b0ce77",
    "outputId": "66eff15c-9423-4fb6-b6a3-4bb7fbe2a62d"
   },
   "outputs": [
    {
     "data": {
      "text/html": [
       "<div>\n",
       "<style scoped>\n",
       "    .dataframe tbody tr th:only-of-type {\n",
       "        vertical-align: middle;\n",
       "    }\n",
       "\n",
       "    .dataframe tbody tr th {\n",
       "        vertical-align: top;\n",
       "    }\n",
       "\n",
       "    .dataframe thead th {\n",
       "        text-align: right;\n",
       "    }\n",
       "</style>\n",
       "<table border=\"1\" class=\"dataframe\">\n",
       "  <thead>\n",
       "    <tr style=\"text-align: right;\">\n",
       "      <th></th>\n",
       "      <th>Date</th>\n",
       "      <th>Tractor sales</th>\n",
       "      <th>GDP</th>\n",
       "      <th>Agriculture,forestry  &amp; fishing</th>\n",
       "      <th>Seasonality</th>\n",
       "      <th>CPI General Index</th>\n",
       "      <th>M1 Rs. Million</th>\n",
       "      <th>M3 Rs. Million</th>\n",
       "      <th>Per capita GDP</th>\n",
       "      <th>Repo Rate</th>\n",
       "      <th>Purchase of Finish goods.</th>\n",
       "      <th>Foodgrains</th>\n",
       "      <th>Cereals</th>\n",
       "      <th>Pulses</th>\n",
       "      <th>Mechanization</th>\n",
       "      <th>Actual_rainfall</th>\n",
       "      <th>Deviation_from_Normal</th>\n",
       "      <th>Kharif_prices</th>\n",
       "      <th>IMD_LPA%</th>\n",
       "    </tr>\n",
       "  </thead>\n",
       "  <tbody>\n",
       "    <tr>\n",
       "      <th>0</th>\n",
       "      <td>2005-03-01</td>\n",
       "      <td>65845</td>\n",
       "      <td>8836970.0</td>\n",
       "      <td>1484010.0</td>\n",
       "      <td>1.193914</td>\n",
       "      <td>105.0</td>\n",
       "      <td>6497660.0</td>\n",
       "      <td>22456530.0</td>\n",
       "      <td>29259.3</td>\n",
       "      <td>0.0630</td>\n",
       "      <td>4664.1</td>\n",
       "      <td>1651.95</td>\n",
       "      <td>1903.44</td>\n",
       "      <td>576.8</td>\n",
       "      <td>18</td>\n",
       "      <td>1132.0</td>\n",
       "      <td>-4.51</td>\n",
       "      <td>560</td>\n",
       "      <td>99.47</td>\n",
       "    </tr>\n",
       "    <tr>\n",
       "      <th>1</th>\n",
       "      <td>2005-06-01</td>\n",
       "      <td>66941</td>\n",
       "      <td>8192260.0</td>\n",
       "      <td>1394040.0</td>\n",
       "      <td>0.900000</td>\n",
       "      <td>110.0</td>\n",
       "      <td>8263890.0</td>\n",
       "      <td>27194930.0</td>\n",
       "      <td>32840.2</td>\n",
       "      <td>0.0625</td>\n",
       "      <td>4603.9</td>\n",
       "      <td>1651.95</td>\n",
       "      <td>1903.44</td>\n",
       "      <td>576.8</td>\n",
       "      <td>18</td>\n",
       "      <td>1190.2</td>\n",
       "      <td>0.40</td>\n",
       "      <td>570</td>\n",
       "      <td>99.47</td>\n",
       "    </tr>\n",
       "    <tr>\n",
       "      <th>2</th>\n",
       "      <td>2005-09-01</td>\n",
       "      <td>61126</td>\n",
       "      <td>8220920.0</td>\n",
       "      <td>1130230.0</td>\n",
       "      <td>0.972246</td>\n",
       "      <td>116.6</td>\n",
       "      <td>8263890.0</td>\n",
       "      <td>27194930.0</td>\n",
       "      <td>32840.2</td>\n",
       "      <td>0.0625</td>\n",
       "      <td>3081.7</td>\n",
       "      <td>1651.95</td>\n",
       "      <td>1903.44</td>\n",
       "      <td>576.8</td>\n",
       "      <td>18</td>\n",
       "      <td>1190.2</td>\n",
       "      <td>0.40</td>\n",
       "      <td>570</td>\n",
       "      <td>99.47</td>\n",
       "    </tr>\n",
       "    <tr>\n",
       "      <th>3</th>\n",
       "      <td>2005-12-01</td>\n",
       "      <td>81410</td>\n",
       "      <td>9266960.0</td>\n",
       "      <td>1857500.0</td>\n",
       "      <td>0.967608</td>\n",
       "      <td>118.9</td>\n",
       "      <td>8263890.0</td>\n",
       "      <td>27194930.0</td>\n",
       "      <td>32840.2</td>\n",
       "      <td>0.0625</td>\n",
       "      <td>2747.8</td>\n",
       "      <td>1651.95</td>\n",
       "      <td>1903.44</td>\n",
       "      <td>576.8</td>\n",
       "      <td>18</td>\n",
       "      <td>1190.2</td>\n",
       "      <td>0.40</td>\n",
       "      <td>570</td>\n",
       "      <td>99.47</td>\n",
       "    </tr>\n",
       "    <tr>\n",
       "      <th>4</th>\n",
       "      <td>2006-03-01</td>\n",
       "      <td>83395</td>\n",
       "      <td>9752300.0</td>\n",
       "      <td>1563090.0</td>\n",
       "      <td>1.193914</td>\n",
       "      <td>119.0</td>\n",
       "      <td>8263890.0</td>\n",
       "      <td>27194930.0</td>\n",
       "      <td>32840.2</td>\n",
       "      <td>0.0625</td>\n",
       "      <td>2142.8</td>\n",
       "      <td>1715.48</td>\n",
       "      <td>1967.75</td>\n",
       "      <td>597.8</td>\n",
       "      <td>21</td>\n",
       "      <td>1190.2</td>\n",
       "      <td>0.40</td>\n",
       "      <td>570</td>\n",
       "      <td>99.37</td>\n",
       "    </tr>\n",
       "  </tbody>\n",
       "</table>\n",
       "</div>"
      ],
      "text/plain": [
       "        Date  Tractor sales        GDP  Agriculture,forestry  & fishing   \\\n",
       "0 2005-03-01          65845  8836970.0                         1484010.0   \n",
       "1 2005-06-01          66941  8192260.0                         1394040.0   \n",
       "2 2005-09-01          61126  8220920.0                         1130230.0   \n",
       "3 2005-12-01          81410  9266960.0                         1857500.0   \n",
       "4 2006-03-01          83395  9752300.0                         1563090.0   \n",
       "\n",
       "   Seasonality  CPI General Index  M1 Rs. Million  M3 Rs. Million  \\\n",
       "0     1.193914              105.0       6497660.0      22456530.0   \n",
       "1     0.900000              110.0       8263890.0      27194930.0   \n",
       "2     0.972246              116.6       8263890.0      27194930.0   \n",
       "3     0.967608              118.9       8263890.0      27194930.0   \n",
       "4     1.193914              119.0       8263890.0      27194930.0   \n",
       "\n",
       "   Per capita GDP   Repo Rate  Purchase of Finish goods.  Foodgrains  \\\n",
       "0          29259.3     0.0630                     4664.1     1651.95   \n",
       "1          32840.2     0.0625                     4603.9     1651.95   \n",
       "2          32840.2     0.0625                     3081.7     1651.95   \n",
       "3          32840.2     0.0625                     2747.8     1651.95   \n",
       "4          32840.2     0.0625                     2142.8     1715.48   \n",
       "\n",
       "   Cereals   Pulses   Mechanization  Actual_rainfall  Deviation_from_Normal  \\\n",
       "0   1903.44    576.8             18           1132.0                  -4.51   \n",
       "1   1903.44    576.8             18           1190.2                   0.40   \n",
       "2   1903.44    576.8             18           1190.2                   0.40   \n",
       "3   1903.44    576.8             18           1190.2                   0.40   \n",
       "4   1967.75    597.8             21           1190.2                   0.40   \n",
       "\n",
       "   Kharif_prices  IMD_LPA%  \n",
       "0            560     99.47  \n",
       "1            570     99.47  \n",
       "2            570     99.47  \n",
       "3            570     99.47  \n",
       "4            570     99.37  "
      ]
     },
     "execution_count": 66,
     "metadata": {},
     "output_type": "execute_result"
    }
   ],
   "source": [
    "df.head()"
   ]
  },
  {
   "cell_type": "code",
   "execution_count": 67,
   "id": "Rf_gQzqL4djV",
   "metadata": {
    "colab": {
     "base_uri": "https://localhost:8080/"
    },
    "id": "Rf_gQzqL4djV",
    "outputId": "021f4a8f-b6b6-452d-cc8c-4c6d4642124d"
   },
   "outputs": [
    {
     "data": {
      "text/plain": [
       "Index(['Date', 'Tractor sales', 'GDP', 'Agriculture,forestry  & fishing ',\n",
       "       'Seasonality', 'CPI General Index', 'M1 Rs. Million', 'M3 Rs. Million',\n",
       "       'Per capita GDP ', 'Repo Rate', 'Purchase of Finish goods.',\n",
       "       'Foodgrains', 'Cereals ', 'Pulses ', 'Mechanization', 'Actual_rainfall',\n",
       "       'Deviation_from_Normal', 'Kharif_prices', 'IMD_LPA%'],\n",
       "      dtype='object')"
      ]
     },
     "execution_count": 67,
     "metadata": {},
     "output_type": "execute_result"
    }
   ],
   "source": [
    "df.columns"
   ]
  },
  {
   "cell_type": "markdown",
   "id": "f87f088f",
   "metadata": {},
   "source": [
    "# Assuming below columns are necessary to forecast tractor sales"
   ]
  },
  {
   "cell_type": "code",
   "execution_count": 68,
   "id": "7h0x374G5afP",
   "metadata": {
    "id": "7h0x374G5afP"
   },
   "outputs": [],
   "source": [
    "df1 = df[['Date', 'Tractor sales', 'GDP','CPI General Index', 'M1 Rs. Million', 'M3 Rs. Million',\n",
    "       'Repo Rate', 'Purchase of Finish goods.', 'Mechanization', 'Actual_rainfall','Kharif_prices']]"
   ]
  },
  {
   "cell_type": "code",
   "execution_count": 69,
   "id": "E_3Ubmyu5ngd",
   "metadata": {
    "colab": {
     "base_uri": "https://localhost:8080/",
     "height": 365
    },
    "id": "E_3Ubmyu5ngd",
    "outputId": "f0da4963-373d-491c-8b02-e146024f8def"
   },
   "outputs": [
    {
     "data": {
      "text/html": [
       "<div>\n",
       "<style scoped>\n",
       "    .dataframe tbody tr th:only-of-type {\n",
       "        vertical-align: middle;\n",
       "    }\n",
       "\n",
       "    .dataframe tbody tr th {\n",
       "        vertical-align: top;\n",
       "    }\n",
       "\n",
       "    .dataframe thead th {\n",
       "        text-align: right;\n",
       "    }\n",
       "</style>\n",
       "<table border=\"1\" class=\"dataframe\">\n",
       "  <thead>\n",
       "    <tr style=\"text-align: right;\">\n",
       "      <th></th>\n",
       "      <th>Date</th>\n",
       "      <th>Tractor sales</th>\n",
       "      <th>GDP</th>\n",
       "      <th>CPI General Index</th>\n",
       "      <th>M1 Rs. Million</th>\n",
       "      <th>M3 Rs. Million</th>\n",
       "      <th>Repo Rate</th>\n",
       "      <th>Purchase of Finish goods.</th>\n",
       "      <th>Mechanization</th>\n",
       "      <th>Actual_rainfall</th>\n",
       "      <th>Kharif_prices</th>\n",
       "    </tr>\n",
       "  </thead>\n",
       "  <tbody>\n",
       "    <tr>\n",
       "      <th>0</th>\n",
       "      <td>2005-03-01</td>\n",
       "      <td>65845</td>\n",
       "      <td>8836970.0</td>\n",
       "      <td>105.0</td>\n",
       "      <td>6497660.0</td>\n",
       "      <td>22456530.0</td>\n",
       "      <td>0.0630</td>\n",
       "      <td>4664.1</td>\n",
       "      <td>18</td>\n",
       "      <td>1132.0</td>\n",
       "      <td>560</td>\n",
       "    </tr>\n",
       "    <tr>\n",
       "      <th>1</th>\n",
       "      <td>2005-06-01</td>\n",
       "      <td>66941</td>\n",
       "      <td>8192260.0</td>\n",
       "      <td>110.0</td>\n",
       "      <td>8263890.0</td>\n",
       "      <td>27194930.0</td>\n",
       "      <td>0.0625</td>\n",
       "      <td>4603.9</td>\n",
       "      <td>18</td>\n",
       "      <td>1190.2</td>\n",
       "      <td>570</td>\n",
       "    </tr>\n",
       "    <tr>\n",
       "      <th>2</th>\n",
       "      <td>2005-09-01</td>\n",
       "      <td>61126</td>\n",
       "      <td>8220920.0</td>\n",
       "      <td>116.6</td>\n",
       "      <td>8263890.0</td>\n",
       "      <td>27194930.0</td>\n",
       "      <td>0.0625</td>\n",
       "      <td>3081.7</td>\n",
       "      <td>18</td>\n",
       "      <td>1190.2</td>\n",
       "      <td>570</td>\n",
       "    </tr>\n",
       "    <tr>\n",
       "      <th>3</th>\n",
       "      <td>2005-12-01</td>\n",
       "      <td>81410</td>\n",
       "      <td>9266960.0</td>\n",
       "      <td>118.9</td>\n",
       "      <td>8263890.0</td>\n",
       "      <td>27194930.0</td>\n",
       "      <td>0.0625</td>\n",
       "      <td>2747.8</td>\n",
       "      <td>18</td>\n",
       "      <td>1190.2</td>\n",
       "      <td>570</td>\n",
       "    </tr>\n",
       "    <tr>\n",
       "      <th>4</th>\n",
       "      <td>2006-03-01</td>\n",
       "      <td>83395</td>\n",
       "      <td>9752300.0</td>\n",
       "      <td>119.0</td>\n",
       "      <td>8263890.0</td>\n",
       "      <td>27194930.0</td>\n",
       "      <td>0.0625</td>\n",
       "      <td>2142.8</td>\n",
       "      <td>21</td>\n",
       "      <td>1190.2</td>\n",
       "      <td>570</td>\n",
       "    </tr>\n",
       "  </tbody>\n",
       "</table>\n",
       "</div>"
      ],
      "text/plain": [
       "        Date  Tractor sales        GDP  CPI General Index  M1 Rs. Million  \\\n",
       "0 2005-03-01          65845  8836970.0              105.0       6497660.0   \n",
       "1 2005-06-01          66941  8192260.0              110.0       8263890.0   \n",
       "2 2005-09-01          61126  8220920.0              116.6       8263890.0   \n",
       "3 2005-12-01          81410  9266960.0              118.9       8263890.0   \n",
       "4 2006-03-01          83395  9752300.0              119.0       8263890.0   \n",
       "\n",
       "   M3 Rs. Million  Repo Rate  Purchase of Finish goods.  Mechanization  \\\n",
       "0      22456530.0     0.0630                     4664.1             18   \n",
       "1      27194930.0     0.0625                     4603.9             18   \n",
       "2      27194930.0     0.0625                     3081.7             18   \n",
       "3      27194930.0     0.0625                     2747.8             18   \n",
       "4      27194930.0     0.0625                     2142.8             21   \n",
       "\n",
       "   Actual_rainfall  Kharif_prices  \n",
       "0           1132.0            560  \n",
       "1           1190.2            570  \n",
       "2           1190.2            570  \n",
       "3           1190.2            570  \n",
       "4           1190.2            570  "
      ]
     },
     "execution_count": 69,
     "metadata": {},
     "output_type": "execute_result"
    }
   ],
   "source": [
    "df1.head()"
   ]
  },
  {
   "cell_type": "code",
   "execution_count": 70,
   "id": "fON9Qh4J5nke",
   "metadata": {
    "colab": {
     "base_uri": "https://localhost:8080/",
     "height": 365
    },
    "id": "fON9Qh4J5nke",
    "outputId": "4785126f-94ad-434f-c6d1-a0b47ea6b8be"
   },
   "outputs": [
    {
     "data": {
      "text/html": [
       "<div>\n",
       "<style scoped>\n",
       "    .dataframe tbody tr th:only-of-type {\n",
       "        vertical-align: middle;\n",
       "    }\n",
       "\n",
       "    .dataframe tbody tr th {\n",
       "        vertical-align: top;\n",
       "    }\n",
       "\n",
       "    .dataframe thead th {\n",
       "        text-align: right;\n",
       "    }\n",
       "</style>\n",
       "<table border=\"1\" class=\"dataframe\">\n",
       "  <thead>\n",
       "    <tr style=\"text-align: right;\">\n",
       "      <th></th>\n",
       "      <th>Date</th>\n",
       "      <th>Tractor sales</th>\n",
       "      <th>GDP</th>\n",
       "      <th>CPI General Index</th>\n",
       "      <th>M1 Rs. Million</th>\n",
       "      <th>M3 Rs. Million</th>\n",
       "      <th>Repo Rate</th>\n",
       "      <th>Purchase of Finish goods.</th>\n",
       "      <th>Mechanization</th>\n",
       "      <th>Actual_rainfall</th>\n",
       "      <th>Kharif_prices</th>\n",
       "    </tr>\n",
       "  </thead>\n",
       "  <tbody>\n",
       "    <tr>\n",
       "      <th>64</th>\n",
       "      <td>2021-03-01</td>\n",
       "      <td>267503</td>\n",
       "      <td>39177252.1</td>\n",
       "      <td>156.6</td>\n",
       "      <td>47942993.5</td>\n",
       "      <td>188445777.5</td>\n",
       "      <td>0.0400</td>\n",
       "      <td>135683.9</td>\n",
       "      <td>52</td>\n",
       "      <td>1265.0</td>\n",
       "      <td>1868</td>\n",
       "    </tr>\n",
       "    <tr>\n",
       "      <th>65</th>\n",
       "      <td>2021-06-01</td>\n",
       "      <td>256093</td>\n",
       "      <td>32464338.8</td>\n",
       "      <td>159.8</td>\n",
       "      <td>53029930.0</td>\n",
       "      <td>204895970.0</td>\n",
       "      <td>0.0454</td>\n",
       "      <td>91976.0</td>\n",
       "      <td>52</td>\n",
       "      <td>1242.0</td>\n",
       "      <td>1940</td>\n",
       "    </tr>\n",
       "    <tr>\n",
       "      <th>66</th>\n",
       "      <td>2021-09-01</td>\n",
       "      <td>247042</td>\n",
       "      <td>35891782.6</td>\n",
       "      <td>162.9</td>\n",
       "      <td>53029930.0</td>\n",
       "      <td>204895970.0</td>\n",
       "      <td>0.0454</td>\n",
       "      <td>156685.2</td>\n",
       "      <td>52</td>\n",
       "      <td>1242.0</td>\n",
       "      <td>1940</td>\n",
       "    </tr>\n",
       "    <tr>\n",
       "      <th>67</th>\n",
       "      <td>2021-12-01</td>\n",
       "      <td>258003</td>\n",
       "      <td>38218783.0</td>\n",
       "      <td>166.1</td>\n",
       "      <td>53029930.0</td>\n",
       "      <td>204895970.0</td>\n",
       "      <td>0.0454</td>\n",
       "      <td>173926.6</td>\n",
       "      <td>52</td>\n",
       "      <td>1242.0</td>\n",
       "      <td>1940</td>\n",
       "    </tr>\n",
       "    <tr>\n",
       "      <th>68</th>\n",
       "      <td>2022-03-01</td>\n",
       "      <td>209777</td>\n",
       "      <td>40780250.5</td>\n",
       "      <td>166.5</td>\n",
       "      <td>53029930.0</td>\n",
       "      <td>204895970.0</td>\n",
       "      <td>0.0454</td>\n",
       "      <td>134563.1</td>\n",
       "      <td>52</td>\n",
       "      <td>1242.0</td>\n",
       "      <td>1940</td>\n",
       "    </tr>\n",
       "  </tbody>\n",
       "</table>\n",
       "</div>"
      ],
      "text/plain": [
       "         Date  Tractor sales         GDP  CPI General Index  M1 Rs. Million  \\\n",
       "64 2021-03-01         267503  39177252.1              156.6      47942993.5   \n",
       "65 2021-06-01         256093  32464338.8              159.8      53029930.0   \n",
       "66 2021-09-01         247042  35891782.6              162.9      53029930.0   \n",
       "67 2021-12-01         258003  38218783.0              166.1      53029930.0   \n",
       "68 2022-03-01         209777  40780250.5              166.5      53029930.0   \n",
       "\n",
       "    M3 Rs. Million  Repo Rate  Purchase of Finish goods.  Mechanization  \\\n",
       "64     188445777.5     0.0400                   135683.9             52   \n",
       "65     204895970.0     0.0454                    91976.0             52   \n",
       "66     204895970.0     0.0454                   156685.2             52   \n",
       "67     204895970.0     0.0454                   173926.6             52   \n",
       "68     204895970.0     0.0454                   134563.1             52   \n",
       "\n",
       "    Actual_rainfall  Kharif_prices  \n",
       "64           1265.0           1868  \n",
       "65           1242.0           1940  \n",
       "66           1242.0           1940  \n",
       "67           1242.0           1940  \n",
       "68           1242.0           1940  "
      ]
     },
     "execution_count": 70,
     "metadata": {},
     "output_type": "execute_result"
    }
   ],
   "source": [
    "df1.tail()"
   ]
  },
  {
   "cell_type": "code",
   "execution_count": 71,
   "id": "rQrDsb6M5yhT",
   "metadata": {
    "colab": {
     "base_uri": "https://localhost:8080/"
    },
    "id": "rQrDsb6M5yhT",
    "outputId": "051d49bc-27b9-4bb2-db14-c7ea48f8f0f0"
   },
   "outputs": [
    {
     "data": {
      "text/plain": [
       "DatetimeIndex(['2005-03-31', '2005-06-30', '2005-09-30', '2005-12-31',\n",
       "               '2006-03-31', '2006-06-30', '2006-09-30', '2006-12-31',\n",
       "               '2007-03-31', '2007-06-30', '2007-09-30', '2007-12-31',\n",
       "               '2008-03-31', '2008-06-30', '2008-09-30', '2008-12-31',\n",
       "               '2009-03-31', '2009-06-30', '2009-09-30', '2009-12-31',\n",
       "               '2010-03-31', '2010-06-30', '2010-09-30', '2010-12-31',\n",
       "               '2011-03-31', '2011-06-30', '2011-09-30', '2011-12-31',\n",
       "               '2012-03-31', '2012-06-30', '2012-09-30', '2012-12-31',\n",
       "               '2013-03-31', '2013-06-30', '2013-09-30', '2013-12-31',\n",
       "               '2014-03-31', '2014-06-30', '2014-09-30', '2014-12-31',\n",
       "               '2015-03-31', '2015-06-30', '2015-09-30', '2015-12-31',\n",
       "               '2016-03-31', '2016-06-30', '2016-09-30', '2016-12-31',\n",
       "               '2017-03-31', '2017-06-30', '2017-09-30', '2017-12-31',\n",
       "               '2018-03-31', '2018-06-30', '2018-09-30', '2018-12-31',\n",
       "               '2019-03-31', '2019-06-30', '2019-09-30', '2019-12-31',\n",
       "               '2020-03-31', '2020-06-30', '2020-09-30', '2020-12-31',\n",
       "               '2021-03-31', '2021-06-30', '2021-09-30', '2021-12-31',\n",
       "               '2022-03-31'],\n",
       "              dtype='datetime64[ns]', freq='Q-DEC')"
      ]
     },
     "execution_count": 71,
     "metadata": {},
     "output_type": "execute_result"
    }
   ],
   "source": [
    "quarters= pd.date_range(start='2/01/2005', end='4/01/2022', freq='Q')\n",
    "quarters"
   ]
  },
  {
   "cell_type": "code",
   "execution_count": 72,
   "id": "XNTuC6jB4oKB",
   "metadata": {
    "id": "XNTuC6jB4oKB"
   },
   "outputs": [],
   "source": [
    "df1['Time_Stamp']=pd.DataFrame(quarters)"
   ]
  },
  {
   "cell_type": "code",
   "execution_count": 73,
   "id": "1hwR2tTv57Wu",
   "metadata": {
    "colab": {
     "base_uri": "https://localhost:8080/",
     "height": 365
    },
    "id": "1hwR2tTv57Wu",
    "outputId": "6509236e-a349-43c4-8974-e00d3156b56a"
   },
   "outputs": [
    {
     "data": {
      "text/html": [
       "<div>\n",
       "<style scoped>\n",
       "    .dataframe tbody tr th:only-of-type {\n",
       "        vertical-align: middle;\n",
       "    }\n",
       "\n",
       "    .dataframe tbody tr th {\n",
       "        vertical-align: top;\n",
       "    }\n",
       "\n",
       "    .dataframe thead th {\n",
       "        text-align: right;\n",
       "    }\n",
       "</style>\n",
       "<table border=\"1\" class=\"dataframe\">\n",
       "  <thead>\n",
       "    <tr style=\"text-align: right;\">\n",
       "      <th></th>\n",
       "      <th>Date</th>\n",
       "      <th>Tractor sales</th>\n",
       "      <th>GDP</th>\n",
       "      <th>CPI General Index</th>\n",
       "      <th>M1 Rs. Million</th>\n",
       "      <th>M3 Rs. Million</th>\n",
       "      <th>Repo Rate</th>\n",
       "      <th>Purchase of Finish goods.</th>\n",
       "      <th>Mechanization</th>\n",
       "      <th>Actual_rainfall</th>\n",
       "      <th>Kharif_prices</th>\n",
       "      <th>Time_Stamp</th>\n",
       "    </tr>\n",
       "  </thead>\n",
       "  <tbody>\n",
       "    <tr>\n",
       "      <th>0</th>\n",
       "      <td>2005-03-01</td>\n",
       "      <td>65845</td>\n",
       "      <td>8836970.0</td>\n",
       "      <td>105.0</td>\n",
       "      <td>6497660.0</td>\n",
       "      <td>22456530.0</td>\n",
       "      <td>0.0630</td>\n",
       "      <td>4664.1</td>\n",
       "      <td>18</td>\n",
       "      <td>1132.0</td>\n",
       "      <td>560</td>\n",
       "      <td>2005-03-31</td>\n",
       "    </tr>\n",
       "    <tr>\n",
       "      <th>1</th>\n",
       "      <td>2005-06-01</td>\n",
       "      <td>66941</td>\n",
       "      <td>8192260.0</td>\n",
       "      <td>110.0</td>\n",
       "      <td>8263890.0</td>\n",
       "      <td>27194930.0</td>\n",
       "      <td>0.0625</td>\n",
       "      <td>4603.9</td>\n",
       "      <td>18</td>\n",
       "      <td>1190.2</td>\n",
       "      <td>570</td>\n",
       "      <td>2005-06-30</td>\n",
       "    </tr>\n",
       "    <tr>\n",
       "      <th>2</th>\n",
       "      <td>2005-09-01</td>\n",
       "      <td>61126</td>\n",
       "      <td>8220920.0</td>\n",
       "      <td>116.6</td>\n",
       "      <td>8263890.0</td>\n",
       "      <td>27194930.0</td>\n",
       "      <td>0.0625</td>\n",
       "      <td>3081.7</td>\n",
       "      <td>18</td>\n",
       "      <td>1190.2</td>\n",
       "      <td>570</td>\n",
       "      <td>2005-09-30</td>\n",
       "    </tr>\n",
       "    <tr>\n",
       "      <th>3</th>\n",
       "      <td>2005-12-01</td>\n",
       "      <td>81410</td>\n",
       "      <td>9266960.0</td>\n",
       "      <td>118.9</td>\n",
       "      <td>8263890.0</td>\n",
       "      <td>27194930.0</td>\n",
       "      <td>0.0625</td>\n",
       "      <td>2747.8</td>\n",
       "      <td>18</td>\n",
       "      <td>1190.2</td>\n",
       "      <td>570</td>\n",
       "      <td>2005-12-31</td>\n",
       "    </tr>\n",
       "    <tr>\n",
       "      <th>4</th>\n",
       "      <td>2006-03-01</td>\n",
       "      <td>83395</td>\n",
       "      <td>9752300.0</td>\n",
       "      <td>119.0</td>\n",
       "      <td>8263890.0</td>\n",
       "      <td>27194930.0</td>\n",
       "      <td>0.0625</td>\n",
       "      <td>2142.8</td>\n",
       "      <td>21</td>\n",
       "      <td>1190.2</td>\n",
       "      <td>570</td>\n",
       "      <td>2006-03-31</td>\n",
       "    </tr>\n",
       "  </tbody>\n",
       "</table>\n",
       "</div>"
      ],
      "text/plain": [
       "        Date  Tractor sales        GDP  CPI General Index  M1 Rs. Million  \\\n",
       "0 2005-03-01          65845  8836970.0              105.0       6497660.0   \n",
       "1 2005-06-01          66941  8192260.0              110.0       8263890.0   \n",
       "2 2005-09-01          61126  8220920.0              116.6       8263890.0   \n",
       "3 2005-12-01          81410  9266960.0              118.9       8263890.0   \n",
       "4 2006-03-01          83395  9752300.0              119.0       8263890.0   \n",
       "\n",
       "   M3 Rs. Million  Repo Rate  Purchase of Finish goods.  Mechanization  \\\n",
       "0      22456530.0     0.0630                     4664.1             18   \n",
       "1      27194930.0     0.0625                     4603.9             18   \n",
       "2      27194930.0     0.0625                     3081.7             18   \n",
       "3      27194930.0     0.0625                     2747.8             18   \n",
       "4      27194930.0     0.0625                     2142.8             21   \n",
       "\n",
       "   Actual_rainfall  Kharif_prices Time_Stamp  \n",
       "0           1132.0            560 2005-03-31  \n",
       "1           1190.2            570 2005-06-30  \n",
       "2           1190.2            570 2005-09-30  \n",
       "3           1190.2            570 2005-12-31  \n",
       "4           1190.2            570 2006-03-31  "
      ]
     },
     "execution_count": 73,
     "metadata": {},
     "output_type": "execute_result"
    }
   ],
   "source": [
    "df1.head()"
   ]
  },
  {
   "cell_type": "code",
   "execution_count": 74,
   "id": "m60XLCrm4vsQ",
   "metadata": {
    "colab": {
     "base_uri": "https://localhost:8080/",
     "height": 278
    },
    "id": "m60XLCrm4vsQ",
    "outputId": "1d3ccf62-940e-4e10-f02f-578ba1aec7eb"
   },
   "outputs": [
    {
     "data": {
      "text/html": [
       "<div>\n",
       "<style scoped>\n",
       "    .dataframe tbody tr th:only-of-type {\n",
       "        vertical-align: middle;\n",
       "    }\n",
       "\n",
       "    .dataframe tbody tr th {\n",
       "        vertical-align: top;\n",
       "    }\n",
       "\n",
       "    .dataframe thead th {\n",
       "        text-align: right;\n",
       "    }\n",
       "</style>\n",
       "<table border=\"1\" class=\"dataframe\">\n",
       "  <thead>\n",
       "    <tr style=\"text-align: right;\">\n",
       "      <th></th>\n",
       "      <th>Tractor sales</th>\n",
       "      <th>GDP</th>\n",
       "      <th>CPI General Index</th>\n",
       "      <th>M1 Rs. Million</th>\n",
       "      <th>M3 Rs. Million</th>\n",
       "      <th>Repo Rate</th>\n",
       "      <th>Purchase of Finish goods.</th>\n",
       "      <th>Mechanization</th>\n",
       "      <th>Actual_rainfall</th>\n",
       "      <th>Kharif_prices</th>\n",
       "      <th>Time_Stamp</th>\n",
       "    </tr>\n",
       "  </thead>\n",
       "  <tbody>\n",
       "    <tr>\n",
       "      <th>0</th>\n",
       "      <td>65845</td>\n",
       "      <td>8836970.0</td>\n",
       "      <td>105.0</td>\n",
       "      <td>6497660.0</td>\n",
       "      <td>22456530.0</td>\n",
       "      <td>0.0630</td>\n",
       "      <td>4664.1</td>\n",
       "      <td>18</td>\n",
       "      <td>1132.0</td>\n",
       "      <td>560</td>\n",
       "      <td>2005-03-31</td>\n",
       "    </tr>\n",
       "    <tr>\n",
       "      <th>1</th>\n",
       "      <td>66941</td>\n",
       "      <td>8192260.0</td>\n",
       "      <td>110.0</td>\n",
       "      <td>8263890.0</td>\n",
       "      <td>27194930.0</td>\n",
       "      <td>0.0625</td>\n",
       "      <td>4603.9</td>\n",
       "      <td>18</td>\n",
       "      <td>1190.2</td>\n",
       "      <td>570</td>\n",
       "      <td>2005-06-30</td>\n",
       "    </tr>\n",
       "    <tr>\n",
       "      <th>2</th>\n",
       "      <td>61126</td>\n",
       "      <td>8220920.0</td>\n",
       "      <td>116.6</td>\n",
       "      <td>8263890.0</td>\n",
       "      <td>27194930.0</td>\n",
       "      <td>0.0625</td>\n",
       "      <td>3081.7</td>\n",
       "      <td>18</td>\n",
       "      <td>1190.2</td>\n",
       "      <td>570</td>\n",
       "      <td>2005-09-30</td>\n",
       "    </tr>\n",
       "    <tr>\n",
       "      <th>3</th>\n",
       "      <td>81410</td>\n",
       "      <td>9266960.0</td>\n",
       "      <td>118.9</td>\n",
       "      <td>8263890.0</td>\n",
       "      <td>27194930.0</td>\n",
       "      <td>0.0625</td>\n",
       "      <td>2747.8</td>\n",
       "      <td>18</td>\n",
       "      <td>1190.2</td>\n",
       "      <td>570</td>\n",
       "      <td>2005-12-31</td>\n",
       "    </tr>\n",
       "    <tr>\n",
       "      <th>4</th>\n",
       "      <td>83395</td>\n",
       "      <td>9752300.0</td>\n",
       "      <td>119.0</td>\n",
       "      <td>8263890.0</td>\n",
       "      <td>27194930.0</td>\n",
       "      <td>0.0625</td>\n",
       "      <td>2142.8</td>\n",
       "      <td>21</td>\n",
       "      <td>1190.2</td>\n",
       "      <td>570</td>\n",
       "      <td>2006-03-31</td>\n",
       "    </tr>\n",
       "  </tbody>\n",
       "</table>\n",
       "</div>"
      ],
      "text/plain": [
       "   Tractor sales        GDP  CPI General Index  M1 Rs. Million  \\\n",
       "0          65845  8836970.0              105.0       6497660.0   \n",
       "1          66941  8192260.0              110.0       8263890.0   \n",
       "2          61126  8220920.0              116.6       8263890.0   \n",
       "3          81410  9266960.0              118.9       8263890.0   \n",
       "4          83395  9752300.0              119.0       8263890.0   \n",
       "\n",
       "   M3 Rs. Million  Repo Rate  Purchase of Finish goods.  Mechanization  \\\n",
       "0      22456530.0     0.0630                     4664.1             18   \n",
       "1      27194930.0     0.0625                     4603.9             18   \n",
       "2      27194930.0     0.0625                     3081.7             18   \n",
       "3      27194930.0     0.0625                     2747.8             18   \n",
       "4      27194930.0     0.0625                     2142.8             21   \n",
       "\n",
       "   Actual_rainfall  Kharif_prices Time_Stamp  \n",
       "0           1132.0            560 2005-03-31  \n",
       "1           1190.2            570 2005-06-30  \n",
       "2           1190.2            570 2005-09-30  \n",
       "3           1190.2            570 2005-12-31  \n",
       "4           1190.2            570 2006-03-31  "
      ]
     },
     "execution_count": 74,
     "metadata": {},
     "output_type": "execute_result"
    }
   ],
   "source": [
    "df1.drop(['Date'],axis=1,inplace=True)\n",
    "df1.head()"
   ]
  },
  {
   "cell_type": "code",
   "execution_count": null,
   "id": "9ca2a56e",
   "metadata": {},
   "outputs": [],
   "source": [
    "# Renaming Tractor sales to Tractor_sales"
   ]
  },
  {
   "cell_type": "code",
   "execution_count": 75,
   "id": "CtQu3fhD4vv4",
   "metadata": {
    "id": "CtQu3fhD4vv4"
   },
   "outputs": [],
   "source": [
    "df1.rename(columns = {'Tractor sales':'Tractor_sales'}, inplace = True)"
   ]
  },
  {
   "cell_type": "code",
   "execution_count": 76,
   "id": "fo7T26OvDE8u",
   "metadata": {
    "colab": {
     "base_uri": "https://localhost:8080/",
     "height": 278
    },
    "id": "fo7T26OvDE8u",
    "outputId": "78b02be0-155e-4533-eb08-9b88f1473284"
   },
   "outputs": [
    {
     "data": {
      "text/html": [
       "<div>\n",
       "<style scoped>\n",
       "    .dataframe tbody tr th:only-of-type {\n",
       "        vertical-align: middle;\n",
       "    }\n",
       "\n",
       "    .dataframe tbody tr th {\n",
       "        vertical-align: top;\n",
       "    }\n",
       "\n",
       "    .dataframe thead th {\n",
       "        text-align: right;\n",
       "    }\n",
       "</style>\n",
       "<table border=\"1\" class=\"dataframe\">\n",
       "  <thead>\n",
       "    <tr style=\"text-align: right;\">\n",
       "      <th></th>\n",
       "      <th>Tractor_sales</th>\n",
       "      <th>GDP</th>\n",
       "      <th>CPI General Index</th>\n",
       "      <th>M1 Rs. Million</th>\n",
       "      <th>M3 Rs. Million</th>\n",
       "      <th>Repo Rate</th>\n",
       "      <th>Purchase of Finish goods.</th>\n",
       "      <th>Mechanization</th>\n",
       "      <th>Actual_rainfall</th>\n",
       "      <th>Kharif_prices</th>\n",
       "      <th>Time_Stamp</th>\n",
       "    </tr>\n",
       "  </thead>\n",
       "  <tbody>\n",
       "    <tr>\n",
       "      <th>0</th>\n",
       "      <td>65845</td>\n",
       "      <td>8836970.0</td>\n",
       "      <td>105.0</td>\n",
       "      <td>6497660.0</td>\n",
       "      <td>22456530.0</td>\n",
       "      <td>0.0630</td>\n",
       "      <td>4664.1</td>\n",
       "      <td>18</td>\n",
       "      <td>1132.0</td>\n",
       "      <td>560</td>\n",
       "      <td>2005-03-31</td>\n",
       "    </tr>\n",
       "    <tr>\n",
       "      <th>1</th>\n",
       "      <td>66941</td>\n",
       "      <td>8192260.0</td>\n",
       "      <td>110.0</td>\n",
       "      <td>8263890.0</td>\n",
       "      <td>27194930.0</td>\n",
       "      <td>0.0625</td>\n",
       "      <td>4603.9</td>\n",
       "      <td>18</td>\n",
       "      <td>1190.2</td>\n",
       "      <td>570</td>\n",
       "      <td>2005-06-30</td>\n",
       "    </tr>\n",
       "    <tr>\n",
       "      <th>2</th>\n",
       "      <td>61126</td>\n",
       "      <td>8220920.0</td>\n",
       "      <td>116.6</td>\n",
       "      <td>8263890.0</td>\n",
       "      <td>27194930.0</td>\n",
       "      <td>0.0625</td>\n",
       "      <td>3081.7</td>\n",
       "      <td>18</td>\n",
       "      <td>1190.2</td>\n",
       "      <td>570</td>\n",
       "      <td>2005-09-30</td>\n",
       "    </tr>\n",
       "    <tr>\n",
       "      <th>3</th>\n",
       "      <td>81410</td>\n",
       "      <td>9266960.0</td>\n",
       "      <td>118.9</td>\n",
       "      <td>8263890.0</td>\n",
       "      <td>27194930.0</td>\n",
       "      <td>0.0625</td>\n",
       "      <td>2747.8</td>\n",
       "      <td>18</td>\n",
       "      <td>1190.2</td>\n",
       "      <td>570</td>\n",
       "      <td>2005-12-31</td>\n",
       "    </tr>\n",
       "    <tr>\n",
       "      <th>4</th>\n",
       "      <td>83395</td>\n",
       "      <td>9752300.0</td>\n",
       "      <td>119.0</td>\n",
       "      <td>8263890.0</td>\n",
       "      <td>27194930.0</td>\n",
       "      <td>0.0625</td>\n",
       "      <td>2142.8</td>\n",
       "      <td>21</td>\n",
       "      <td>1190.2</td>\n",
       "      <td>570</td>\n",
       "      <td>2006-03-31</td>\n",
       "    </tr>\n",
       "  </tbody>\n",
       "</table>\n",
       "</div>"
      ],
      "text/plain": [
       "   Tractor_sales        GDP  CPI General Index  M1 Rs. Million  \\\n",
       "0          65845  8836970.0              105.0       6497660.0   \n",
       "1          66941  8192260.0              110.0       8263890.0   \n",
       "2          61126  8220920.0              116.6       8263890.0   \n",
       "3          81410  9266960.0              118.9       8263890.0   \n",
       "4          83395  9752300.0              119.0       8263890.0   \n",
       "\n",
       "   M3 Rs. Million  Repo Rate  Purchase of Finish goods.  Mechanization  \\\n",
       "0      22456530.0     0.0630                     4664.1             18   \n",
       "1      27194930.0     0.0625                     4603.9             18   \n",
       "2      27194930.0     0.0625                     3081.7             18   \n",
       "3      27194930.0     0.0625                     2747.8             18   \n",
       "4      27194930.0     0.0625                     2142.8             21   \n",
       "\n",
       "   Actual_rainfall  Kharif_prices Time_Stamp  \n",
       "0           1132.0            560 2005-03-31  \n",
       "1           1190.2            570 2005-06-30  \n",
       "2           1190.2            570 2005-09-30  \n",
       "3           1190.2            570 2005-12-31  \n",
       "4           1190.2            570 2006-03-31  "
      ]
     },
     "execution_count": 76,
     "metadata": {},
     "output_type": "execute_result"
    }
   ],
   "source": [
    "df1.head()"
   ]
  },
  {
   "cell_type": "code",
   "execution_count": 77,
   "id": "cWe3ai-W4vzz",
   "metadata": {
    "id": "cWe3ai-W4vzz"
   },
   "outputs": [],
   "source": [
    "train_start = datetime(2012,3,31)\n",
    "train_end= datetime(2019,3,31)\n",
    "test_start = datetime(2019,6,30)\n",
    "test_end= datetime(2022,3,31)"
   ]
  },
  {
   "cell_type": "code",
   "execution_count": 95,
   "id": "5a239c96",
   "metadata": {},
   "outputs": [],
   "source": [
    "# Splitting dataset into train & test"
   ]
  },
  {
   "cell_type": "code",
   "execution_count": 78,
   "id": "cOaKZCoI7F9R",
   "metadata": {
    "id": "cOaKZCoI7F9R"
   },
   "outputs": [],
   "source": [
    "df_train = df1[28:57]\n",
    "df_test  = df1[58:]"
   ]
  },
  {
   "cell_type": "code",
   "execution_count": 79,
   "id": "QzckaxX07Unp",
   "metadata": {
    "colab": {
     "base_uri": "https://localhost:8080/"
    },
    "id": "QzckaxX07Unp",
    "outputId": "2202ce9c-4c48-423b-fc31-03612784be81"
   },
   "outputs": [
    {
     "data": {
      "text/plain": [
       "(29, 11)"
      ]
     },
     "execution_count": 79,
     "metadata": {},
     "output_type": "execute_result"
    }
   ],
   "source": [
    "df_train.shape"
   ]
  },
  {
   "cell_type": "code",
   "execution_count": 80,
   "id": "qKGGAMVB7F_6",
   "metadata": {
    "colab": {
     "base_uri": "https://localhost:8080/"
    },
    "id": "qKGGAMVB7F_6",
    "outputId": "bd1b470b-042b-4abd-b7cd-5bed8f351fca"
   },
   "outputs": [
    {
     "data": {
      "text/plain": [
       "(11, 11)"
      ]
     },
     "execution_count": 80,
     "metadata": {},
     "output_type": "execute_result"
    }
   ],
   "source": [
    "df_test.shape"
   ]
  },
  {
   "cell_type": "code",
   "execution_count": 81,
   "id": "3WGwpWNe8vL5",
   "metadata": {
    "colab": {
     "base_uri": "https://localhost:8080/"
    },
    "id": "3WGwpWNe8vL5",
    "outputId": "f3d046c3-b53f-4a4b-bda6-19be9b3d2702"
   },
   "outputs": [
    {
     "data": {
      "text/plain": [
       "Index(['Tractor_sales', 'GDP', 'CPI General Index', 'M1 Rs. Million',\n",
       "       'M3 Rs. Million', 'Repo Rate', 'Purchase of Finish goods.',\n",
       "       'Mechanization', 'Actual_rainfall', 'Kharif_prices', 'Time_Stamp'],\n",
       "      dtype='object')"
      ]
     },
     "execution_count": 81,
     "metadata": {},
     "output_type": "execute_result"
    }
   ],
   "source": [
    "df_train.columns"
   ]
  },
  {
   "cell_type": "code",
   "execution_count": 96,
   "id": "0555f774",
   "metadata": {},
   "outputs": [],
   "source": [
    "# Renaming Tractor_Sales to y and Time_Stamp to ds as Prophet model requires Target variable to y & date column to be ds"
   ]
  },
  {
   "cell_type": "code",
   "execution_count": 82,
   "id": "1I_RMFkODYJb",
   "metadata": {
    "id": "1I_RMFkODYJb"
   },
   "outputs": [],
   "source": [
    "df_train = df_train.rename(columns={'Tractor_sales':'y', 'Time_Stamp':'ds'})"
   ]
  },
  {
   "cell_type": "code",
   "execution_count": 83,
   "id": "E1JcUBxODZxT",
   "metadata": {
    "colab": {
     "base_uri": "https://localhost:8080/",
     "height": 1000
    },
    "id": "E1JcUBxODZxT",
    "outputId": "3e6abc5a-5bce-4db3-f13c-2e3736af18be"
   },
   "outputs": [
    {
     "data": {
      "text/html": [
       "<div>\n",
       "<style scoped>\n",
       "    .dataframe tbody tr th:only-of-type {\n",
       "        vertical-align: middle;\n",
       "    }\n",
       "\n",
       "    .dataframe tbody tr th {\n",
       "        vertical-align: top;\n",
       "    }\n",
       "\n",
       "    .dataframe thead th {\n",
       "        text-align: right;\n",
       "    }\n",
       "</style>\n",
       "<table border=\"1\" class=\"dataframe\">\n",
       "  <thead>\n",
       "    <tr style=\"text-align: right;\">\n",
       "      <th></th>\n",
       "      <th>y</th>\n",
       "      <th>GDP</th>\n",
       "      <th>CPI General Index</th>\n",
       "      <th>M1 Rs. Million</th>\n",
       "      <th>M3 Rs. Million</th>\n",
       "      <th>Repo Rate</th>\n",
       "      <th>Purchase of Finish goods.</th>\n",
       "      <th>Mechanization</th>\n",
       "      <th>Actual_rainfall</th>\n",
       "      <th>Kharif_prices</th>\n",
       "      <th>ds</th>\n",
       "    </tr>\n",
       "  </thead>\n",
       "  <tbody>\n",
       "    <tr>\n",
       "      <th>28</th>\n",
       "      <td>147983</td>\n",
       "      <td>23654614.0</td>\n",
       "      <td>95.7</td>\n",
       "      <td>17373940.0</td>\n",
       "      <td>73848310.0</td>\n",
       "      <td>0.066250</td>\n",
       "      <td>30239.7</td>\n",
       "      <td>29</td>\n",
       "      <td>1096.7</td>\n",
       "      <td>1080</td>\n",
       "      <td>2012-03-31</td>\n",
       "    </tr>\n",
       "    <tr>\n",
       "      <th>29</th>\n",
       "      <td>154962</td>\n",
       "      <td>22052234.4</td>\n",
       "      <td>98.7</td>\n",
       "      <td>18975260.0</td>\n",
       "      <td>83898190.0</td>\n",
       "      <td>0.075000</td>\n",
       "      <td>27988.8</td>\n",
       "      <td>29</td>\n",
       "      <td>1079.8</td>\n",
       "      <td>1250</td>\n",
       "      <td>2012-06-30</td>\n",
       "    </tr>\n",
       "    <tr>\n",
       "      <th>30</th>\n",
       "      <td>134997</td>\n",
       "      <td>21959458.8</td>\n",
       "      <td>102.1</td>\n",
       "      <td>18975260.0</td>\n",
       "      <td>83898190.0</td>\n",
       "      <td>0.075000</td>\n",
       "      <td>32032.3</td>\n",
       "      <td>29</td>\n",
       "      <td>1079.8</td>\n",
       "      <td>1250</td>\n",
       "      <td>2012-09-30</td>\n",
       "    </tr>\n",
       "    <tr>\n",
       "      <th>31</th>\n",
       "      <td>168069</td>\n",
       "      <td>23447672.1</td>\n",
       "      <td>104.2</td>\n",
       "      <td>18975260.0</td>\n",
       "      <td>83898190.0</td>\n",
       "      <td>0.075000</td>\n",
       "      <td>28340.9</td>\n",
       "      <td>29</td>\n",
       "      <td>1079.8</td>\n",
       "      <td>1250</td>\n",
       "      <td>2012-12-31</td>\n",
       "    </tr>\n",
       "    <tr>\n",
       "      <th>32</th>\n",
       "      <td>140715</td>\n",
       "      <td>24670818.7</td>\n",
       "      <td>105.7</td>\n",
       "      <td>18975260.0</td>\n",
       "      <td>83898190.0</td>\n",
       "      <td>0.075000</td>\n",
       "      <td>27365.0</td>\n",
       "      <td>31</td>\n",
       "      <td>1079.8</td>\n",
       "      <td>1250</td>\n",
       "      <td>2013-03-31</td>\n",
       "    </tr>\n",
       "    <tr>\n",
       "      <th>33</th>\n",
       "      <td>189020</td>\n",
       "      <td>23473963.7</td>\n",
       "      <td>107.8</td>\n",
       "      <td>20597620.0</td>\n",
       "      <td>95173860.0</td>\n",
       "      <td>0.080000</td>\n",
       "      <td>22507.2</td>\n",
       "      <td>31</td>\n",
       "      <td>1265.2</td>\n",
       "      <td>1310</td>\n",
       "      <td>2013-06-30</td>\n",
       "    </tr>\n",
       "    <tr>\n",
       "      <th>34</th>\n",
       "      <td>160464</td>\n",
       "      <td>23570788.7</td>\n",
       "      <td>112.4</td>\n",
       "      <td>20597620.0</td>\n",
       "      <td>95173860.0</td>\n",
       "      <td>0.080000</td>\n",
       "      <td>30731.4</td>\n",
       "      <td>31</td>\n",
       "      <td>1265.2</td>\n",
       "      <td>1310</td>\n",
       "      <td>2013-09-30</td>\n",
       "    </tr>\n",
       "    <tr>\n",
       "      <th>35</th>\n",
       "      <td>198687</td>\n",
       "      <td>24979973.4</td>\n",
       "      <td>115.2</td>\n",
       "      <td>20597620.0</td>\n",
       "      <td>95173860.0</td>\n",
       "      <td>0.080000</td>\n",
       "      <td>42309.7</td>\n",
       "      <td>31</td>\n",
       "      <td>1265.2</td>\n",
       "      <td>1310</td>\n",
       "      <td>2013-12-31</td>\n",
       "    </tr>\n",
       "    <tr>\n",
       "      <th>36</th>\n",
       "      <td>154839</td>\n",
       "      <td>25988975.6</td>\n",
       "      <td>113.8</td>\n",
       "      <td>20597620.0</td>\n",
       "      <td>95173860.0</td>\n",
       "      <td>0.080000</td>\n",
       "      <td>42628.2</td>\n",
       "      <td>33</td>\n",
       "      <td>1265.2</td>\n",
       "      <td>1310</td>\n",
       "      <td>2014-03-31</td>\n",
       "    </tr>\n",
       "    <tr>\n",
       "      <th>37</th>\n",
       "      <td>188074</td>\n",
       "      <td>25357505.9</td>\n",
       "      <td>115.9</td>\n",
       "      <td>22924040.0</td>\n",
       "      <td>105501680.0</td>\n",
       "      <td>0.073125</td>\n",
       "      <td>41126.9</td>\n",
       "      <td>33</td>\n",
       "      <td>1088.6</td>\n",
       "      <td>1360</td>\n",
       "      <td>2014-06-30</td>\n",
       "    </tr>\n",
       "    <tr>\n",
       "      <th>38</th>\n",
       "      <td>159960</td>\n",
       "      <td>25622415.8</td>\n",
       "      <td>119.9</td>\n",
       "      <td>22924040.0</td>\n",
       "      <td>105501680.0</td>\n",
       "      <td>0.073125</td>\n",
       "      <td>49316.1</td>\n",
       "      <td>33</td>\n",
       "      <td>1088.6</td>\n",
       "      <td>1360</td>\n",
       "      <td>2014-09-30</td>\n",
       "    </tr>\n",
       "    <tr>\n",
       "      <th>39</th>\n",
       "      <td>161897</td>\n",
       "      <td>26459471.4</td>\n",
       "      <td>119.9</td>\n",
       "      <td>22924040.0</td>\n",
       "      <td>105501680.0</td>\n",
       "      <td>0.073125</td>\n",
       "      <td>44386.5</td>\n",
       "      <td>33</td>\n",
       "      <td>1088.6</td>\n",
       "      <td>1360</td>\n",
       "      <td>2014-12-31</td>\n",
       "    </tr>\n",
       "    <tr>\n",
       "      <th>40</th>\n",
       "      <td>116908</td>\n",
       "      <td>27837332.3</td>\n",
       "      <td>119.8</td>\n",
       "      <td>22924040.0</td>\n",
       "      <td>105501680.0</td>\n",
       "      <td>0.073125</td>\n",
       "      <td>49994.2</td>\n",
       "      <td>35</td>\n",
       "      <td>1088.6</td>\n",
       "      <td>1360</td>\n",
       "      <td>2015-03-31</td>\n",
       "    </tr>\n",
       "    <tr>\n",
       "      <th>41</th>\n",
       "      <td>162415</td>\n",
       "      <td>27282785.8</td>\n",
       "      <td>121.8</td>\n",
       "      <td>26025380.0</td>\n",
       "      <td>116176150.0</td>\n",
       "      <td>0.063750</td>\n",
       "      <td>46344.3</td>\n",
       "      <td>35</td>\n",
       "      <td>1011.6</td>\n",
       "      <td>1410</td>\n",
       "      <td>2015-06-30</td>\n",
       "    </tr>\n",
       "    <tr>\n",
       "      <th>42</th>\n",
       "      <td>126088</td>\n",
       "      <td>27680871.0</td>\n",
       "      <td>124.6</td>\n",
       "      <td>26025380.0</td>\n",
       "      <td>116176150.0</td>\n",
       "      <td>0.063750</td>\n",
       "      <td>53396.5</td>\n",
       "      <td>35</td>\n",
       "      <td>1011.6</td>\n",
       "      <td>1410</td>\n",
       "      <td>2015-09-30</td>\n",
       "    </tr>\n",
       "    <tr>\n",
       "      <th>43</th>\n",
       "      <td>159174</td>\n",
       "      <td>28363873.9</td>\n",
       "      <td>126.3</td>\n",
       "      <td>26025380.0</td>\n",
       "      <td>116176150.0</td>\n",
       "      <td>0.063750</td>\n",
       "      <td>53300.6</td>\n",
       "      <td>35</td>\n",
       "      <td>1011.6</td>\n",
       "      <td>1410</td>\n",
       "      <td>2015-12-31</td>\n",
       "    </tr>\n",
       "    <tr>\n",
       "      <th>44</th>\n",
       "      <td>123572</td>\n",
       "      <td>30367379.1</td>\n",
       "      <td>126.1</td>\n",
       "      <td>26025380.0</td>\n",
       "      <td>116176150.0</td>\n",
       "      <td>0.063750</td>\n",
       "      <td>35771.9</td>\n",
       "      <td>36</td>\n",
       "      <td>1011.6</td>\n",
       "      <td>1410</td>\n",
       "      <td>2016-03-31</td>\n",
       "    </tr>\n",
       "    <tr>\n",
       "      <th>45</th>\n",
       "      <td>182018</td>\n",
       "      <td>29650877.8</td>\n",
       "      <td>128.7</td>\n",
       "      <td>26819570.0</td>\n",
       "      <td>127919400.0</td>\n",
       "      <td>0.060000</td>\n",
       "      <td>62971.5</td>\n",
       "      <td>36</td>\n",
       "      <td>1102.6</td>\n",
       "      <td>1470</td>\n",
       "      <td>2016-06-30</td>\n",
       "    </tr>\n",
       "    <tr>\n",
       "      <th>46</th>\n",
       "      <td>156713</td>\n",
       "      <td>30357558.3</td>\n",
       "      <td>131.0</td>\n",
       "      <td>26819570.0</td>\n",
       "      <td>127919400.0</td>\n",
       "      <td>0.060000</td>\n",
       "      <td>73627.7</td>\n",
       "      <td>36</td>\n",
       "      <td>1102.6</td>\n",
       "      <td>1470</td>\n",
       "      <td>2016-09-30</td>\n",
       "    </tr>\n",
       "    <tr>\n",
       "      <th>47</th>\n",
       "      <td>184366</td>\n",
       "      <td>30796216.1</td>\n",
       "      <td>131.0</td>\n",
       "      <td>26819570.0</td>\n",
       "      <td>127919400.0</td>\n",
       "      <td>0.060000</td>\n",
       "      <td>70009.2</td>\n",
       "      <td>36</td>\n",
       "      <td>1102.6</td>\n",
       "      <td>1470</td>\n",
       "      <td>2016-12-31</td>\n",
       "    </tr>\n",
       "    <tr>\n",
       "      <th>48</th>\n",
       "      <td>138098</td>\n",
       "      <td>32277283.1</td>\n",
       "      <td>130.6</td>\n",
       "      <td>26819570.0</td>\n",
       "      <td>127919400.0</td>\n",
       "      <td>0.060000</td>\n",
       "      <td>102267.1</td>\n",
       "      <td>39</td>\n",
       "      <td>1102.6</td>\n",
       "      <td>1470</td>\n",
       "      <td>2017-03-31</td>\n",
       "    </tr>\n",
       "    <tr>\n",
       "      <th>49</th>\n",
       "      <td>196582</td>\n",
       "      <td>31463362.8</td>\n",
       "      <td>131.5</td>\n",
       "      <td>32673313.0</td>\n",
       "      <td>139625865.0</td>\n",
       "      <td>0.062500</td>\n",
       "      <td>108897.0</td>\n",
       "      <td>39</td>\n",
       "      <td>1086.4</td>\n",
       "      <td>1550</td>\n",
       "      <td>2017-06-30</td>\n",
       "    </tr>\n",
       "    <tr>\n",
       "      <th>50</th>\n",
       "      <td>207106</td>\n",
       "      <td>31971954.9</td>\n",
       "      <td>134.9</td>\n",
       "      <td>32673313.0</td>\n",
       "      <td>139625865.0</td>\n",
       "      <td>0.062500</td>\n",
       "      <td>111569.5</td>\n",
       "      <td>39</td>\n",
       "      <td>1086.4</td>\n",
       "      <td>1550</td>\n",
       "      <td>2017-09-30</td>\n",
       "    </tr>\n",
       "    <tr>\n",
       "      <th>51</th>\n",
       "      <td>199534</td>\n",
       "      <td>32849916.6</td>\n",
       "      <td>137.0</td>\n",
       "      <td>32673313.0</td>\n",
       "      <td>139625865.0</td>\n",
       "      <td>0.062500</td>\n",
       "      <td>116556.9</td>\n",
       "      <td>39</td>\n",
       "      <td>1086.4</td>\n",
       "      <td>1550</td>\n",
       "      <td>2017-12-31</td>\n",
       "    </tr>\n",
       "    <tr>\n",
       "      <th>52</th>\n",
       "      <td>193651</td>\n",
       "      <td>35160583.5</td>\n",
       "      <td>136.6</td>\n",
       "      <td>32673313.0</td>\n",
       "      <td>139625865.0</td>\n",
       "      <td>0.062500</td>\n",
       "      <td>115789.6</td>\n",
       "      <td>42</td>\n",
       "      <td>1086.4</td>\n",
       "      <td>1550</td>\n",
       "      <td>2018-03-31</td>\n",
       "    </tr>\n",
       "    <tr>\n",
       "      <th>53</th>\n",
       "      <td>247586</td>\n",
       "      <td>33823008.3</td>\n",
       "      <td>137.8</td>\n",
       "      <td>37104635.6</td>\n",
       "      <td>154320668.6</td>\n",
       "      <td>0.056167</td>\n",
       "      <td>131573.0</td>\n",
       "      <td>42</td>\n",
       "      <td>1025.6</td>\n",
       "      <td>1750</td>\n",
       "      <td>2018-06-30</td>\n",
       "    </tr>\n",
       "    <tr>\n",
       "      <th>54</th>\n",
       "      <td>210085</td>\n",
       "      <td>34036441.9</td>\n",
       "      <td>140.1</td>\n",
       "      <td>37104635.6</td>\n",
       "      <td>154320668.6</td>\n",
       "      <td>0.056167</td>\n",
       "      <td>140941.1</td>\n",
       "      <td>42</td>\n",
       "      <td>1025.6</td>\n",
       "      <td>1750</td>\n",
       "      <td>2018-09-30</td>\n",
       "    </tr>\n",
       "    <tr>\n",
       "      <th>55</th>\n",
       "      <td>245422</td>\n",
       "      <td>34897608.9</td>\n",
       "      <td>140.5</td>\n",
       "      <td>37104635.6</td>\n",
       "      <td>154320668.6</td>\n",
       "      <td>0.056167</td>\n",
       "      <td>147720.4</td>\n",
       "      <td>42</td>\n",
       "      <td>1025.6</td>\n",
       "      <td>1750</td>\n",
       "      <td>2018-12-31</td>\n",
       "    </tr>\n",
       "    <tr>\n",
       "      <th>56</th>\n",
       "      <td>182455</td>\n",
       "      <td>37172100.4</td>\n",
       "      <td>140.0</td>\n",
       "      <td>37104635.6</td>\n",
       "      <td>154320668.6</td>\n",
       "      <td>0.056167</td>\n",
       "      <td>145526.7</td>\n",
       "      <td>45</td>\n",
       "      <td>1025.6</td>\n",
       "      <td>1750</td>\n",
       "      <td>2019-03-31</td>\n",
       "    </tr>\n",
       "  </tbody>\n",
       "</table>\n",
       "</div>"
      ],
      "text/plain": [
       "         y         GDP  CPI General Index  M1 Rs. Million  M3 Rs. Million  \\\n",
       "28  147983  23654614.0               95.7      17373940.0      73848310.0   \n",
       "29  154962  22052234.4               98.7      18975260.0      83898190.0   \n",
       "30  134997  21959458.8              102.1      18975260.0      83898190.0   \n",
       "31  168069  23447672.1              104.2      18975260.0      83898190.0   \n",
       "32  140715  24670818.7              105.7      18975260.0      83898190.0   \n",
       "33  189020  23473963.7              107.8      20597620.0      95173860.0   \n",
       "34  160464  23570788.7              112.4      20597620.0      95173860.0   \n",
       "35  198687  24979973.4              115.2      20597620.0      95173860.0   \n",
       "36  154839  25988975.6              113.8      20597620.0      95173860.0   \n",
       "37  188074  25357505.9              115.9      22924040.0     105501680.0   \n",
       "38  159960  25622415.8              119.9      22924040.0     105501680.0   \n",
       "39  161897  26459471.4              119.9      22924040.0     105501680.0   \n",
       "40  116908  27837332.3              119.8      22924040.0     105501680.0   \n",
       "41  162415  27282785.8              121.8      26025380.0     116176150.0   \n",
       "42  126088  27680871.0              124.6      26025380.0     116176150.0   \n",
       "43  159174  28363873.9              126.3      26025380.0     116176150.0   \n",
       "44  123572  30367379.1              126.1      26025380.0     116176150.0   \n",
       "45  182018  29650877.8              128.7      26819570.0     127919400.0   \n",
       "46  156713  30357558.3              131.0      26819570.0     127919400.0   \n",
       "47  184366  30796216.1              131.0      26819570.0     127919400.0   \n",
       "48  138098  32277283.1              130.6      26819570.0     127919400.0   \n",
       "49  196582  31463362.8              131.5      32673313.0     139625865.0   \n",
       "50  207106  31971954.9              134.9      32673313.0     139625865.0   \n",
       "51  199534  32849916.6              137.0      32673313.0     139625865.0   \n",
       "52  193651  35160583.5              136.6      32673313.0     139625865.0   \n",
       "53  247586  33823008.3              137.8      37104635.6     154320668.6   \n",
       "54  210085  34036441.9              140.1      37104635.6     154320668.6   \n",
       "55  245422  34897608.9              140.5      37104635.6     154320668.6   \n",
       "56  182455  37172100.4              140.0      37104635.6     154320668.6   \n",
       "\n",
       "    Repo Rate  Purchase of Finish goods.  Mechanization  Actual_rainfall  \\\n",
       "28   0.066250                    30239.7             29           1096.7   \n",
       "29   0.075000                    27988.8             29           1079.8   \n",
       "30   0.075000                    32032.3             29           1079.8   \n",
       "31   0.075000                    28340.9             29           1079.8   \n",
       "32   0.075000                    27365.0             31           1079.8   \n",
       "33   0.080000                    22507.2             31           1265.2   \n",
       "34   0.080000                    30731.4             31           1265.2   \n",
       "35   0.080000                    42309.7             31           1265.2   \n",
       "36   0.080000                    42628.2             33           1265.2   \n",
       "37   0.073125                    41126.9             33           1088.6   \n",
       "38   0.073125                    49316.1             33           1088.6   \n",
       "39   0.073125                    44386.5             33           1088.6   \n",
       "40   0.073125                    49994.2             35           1088.6   \n",
       "41   0.063750                    46344.3             35           1011.6   \n",
       "42   0.063750                    53396.5             35           1011.6   \n",
       "43   0.063750                    53300.6             35           1011.6   \n",
       "44   0.063750                    35771.9             36           1011.6   \n",
       "45   0.060000                    62971.5             36           1102.6   \n",
       "46   0.060000                    73627.7             36           1102.6   \n",
       "47   0.060000                    70009.2             36           1102.6   \n",
       "48   0.060000                   102267.1             39           1102.6   \n",
       "49   0.062500                   108897.0             39           1086.4   \n",
       "50   0.062500                   111569.5             39           1086.4   \n",
       "51   0.062500                   116556.9             39           1086.4   \n",
       "52   0.062500                   115789.6             42           1086.4   \n",
       "53   0.056167                   131573.0             42           1025.6   \n",
       "54   0.056167                   140941.1             42           1025.6   \n",
       "55   0.056167                   147720.4             42           1025.6   \n",
       "56   0.056167                   145526.7             45           1025.6   \n",
       "\n",
       "    Kharif_prices         ds  \n",
       "28           1080 2012-03-31  \n",
       "29           1250 2012-06-30  \n",
       "30           1250 2012-09-30  \n",
       "31           1250 2012-12-31  \n",
       "32           1250 2013-03-31  \n",
       "33           1310 2013-06-30  \n",
       "34           1310 2013-09-30  \n",
       "35           1310 2013-12-31  \n",
       "36           1310 2014-03-31  \n",
       "37           1360 2014-06-30  \n",
       "38           1360 2014-09-30  \n",
       "39           1360 2014-12-31  \n",
       "40           1360 2015-03-31  \n",
       "41           1410 2015-06-30  \n",
       "42           1410 2015-09-30  \n",
       "43           1410 2015-12-31  \n",
       "44           1410 2016-03-31  \n",
       "45           1470 2016-06-30  \n",
       "46           1470 2016-09-30  \n",
       "47           1470 2016-12-31  \n",
       "48           1470 2017-03-31  \n",
       "49           1550 2017-06-30  \n",
       "50           1550 2017-09-30  \n",
       "51           1550 2017-12-31  \n",
       "52           1550 2018-03-31  \n",
       "53           1750 2018-06-30  \n",
       "54           1750 2018-09-30  \n",
       "55           1750 2018-12-31  \n",
       "56           1750 2019-03-31  "
      ]
     },
     "execution_count": 83,
     "metadata": {},
     "output_type": "execute_result"
    }
   ],
   "source": [
    "df_train"
   ]
  },
  {
   "cell_type": "code",
   "execution_count": 84,
   "id": "412d74f9",
   "metadata": {
    "colab": {
     "base_uri": "https://localhost:8080/"
    },
    "id": "412d74f9",
    "outputId": "9be7ac62-ffb5-4dc6-ce58-dd4e1690cae2"
   },
   "outputs": [
    {
     "data": {
      "text/plain": [
       "<prophet.forecaster.Prophet at 0x163123c2190>"
      ]
     },
     "execution_count": 84,
     "metadata": {},
     "output_type": "execute_result"
    }
   ],
   "source": [
    "# to save a copy of the original data.\n",
    "df_train['y_orig'] = df_train['y'] \n",
    "\n",
    "df_train['y'] = np.log(df_train['y'])\n",
    "\n",
    "#instantiate Prophet\n",
    "model_new = Prophet() \n",
    "\n",
    "# Adding columns to prophet model for forecasting\n",
    "model_new.add_regressor('GDP',standardize=True)\n",
    "model_new.add_regressor('CPI General Index',standardize=True)\n",
    "model_new.add_regressor('M1 Rs. Million',standardize=True)\n",
    "model_new.add_regressor('M3 Rs. Million',standardize=True)\n",
    "model_new.add_regressor('Repo Rate',standardize=True)\n",
    "model_new.add_regressor('Purchase of Finish goods.',standardize=True)\n",
    "model_new.add_regressor('Mechanization',standardize=True)\n",
    "model_new.add_regressor('Actual_rainfall',standardize=True)\n",
    "model_new.add_regressor('Kharif_prices',standardize=True)"
   ]
  },
  {
   "cell_type": "code",
   "execution_count": 85,
   "id": "rNFLVz-LCf5g",
   "metadata": {
    "colab": {
     "base_uri": "https://localhost:8080/",
     "height": 1000
    },
    "id": "rNFLVz-LCf5g",
    "outputId": "784f7e69-c16d-421d-878c-f3ca3abdd9cd"
   },
   "outputs": [
    {
     "data": {
      "text/html": [
       "<div>\n",
       "<style scoped>\n",
       "    .dataframe tbody tr th:only-of-type {\n",
       "        vertical-align: middle;\n",
       "    }\n",
       "\n",
       "    .dataframe tbody tr th {\n",
       "        vertical-align: top;\n",
       "    }\n",
       "\n",
       "    .dataframe thead th {\n",
       "        text-align: right;\n",
       "    }\n",
       "</style>\n",
       "<table border=\"1\" class=\"dataframe\">\n",
       "  <thead>\n",
       "    <tr style=\"text-align: right;\">\n",
       "      <th></th>\n",
       "      <th>y</th>\n",
       "      <th>GDP</th>\n",
       "      <th>CPI General Index</th>\n",
       "      <th>M1 Rs. Million</th>\n",
       "      <th>M3 Rs. Million</th>\n",
       "      <th>Repo Rate</th>\n",
       "      <th>Purchase of Finish goods.</th>\n",
       "      <th>Mechanization</th>\n",
       "      <th>Actual_rainfall</th>\n",
       "      <th>Kharif_prices</th>\n",
       "      <th>ds</th>\n",
       "      <th>y_orig</th>\n",
       "    </tr>\n",
       "  </thead>\n",
       "  <tbody>\n",
       "    <tr>\n",
       "      <th>28</th>\n",
       "      <td>11.904853</td>\n",
       "      <td>23654614.0</td>\n",
       "      <td>95.7</td>\n",
       "      <td>17373940.0</td>\n",
       "      <td>73848310.0</td>\n",
       "      <td>0.066250</td>\n",
       "      <td>30239.7</td>\n",
       "      <td>29</td>\n",
       "      <td>1096.7</td>\n",
       "      <td>1080</td>\n",
       "      <td>2012-03-31</td>\n",
       "      <td>147983</td>\n",
       "    </tr>\n",
       "    <tr>\n",
       "      <th>29</th>\n",
       "      <td>11.950935</td>\n",
       "      <td>22052234.4</td>\n",
       "      <td>98.7</td>\n",
       "      <td>18975260.0</td>\n",
       "      <td>83898190.0</td>\n",
       "      <td>0.075000</td>\n",
       "      <td>27988.8</td>\n",
       "      <td>29</td>\n",
       "      <td>1079.8</td>\n",
       "      <td>1250</td>\n",
       "      <td>2012-06-30</td>\n",
       "      <td>154962</td>\n",
       "    </tr>\n",
       "    <tr>\n",
       "      <th>30</th>\n",
       "      <td>11.813008</td>\n",
       "      <td>21959458.8</td>\n",
       "      <td>102.1</td>\n",
       "      <td>18975260.0</td>\n",
       "      <td>83898190.0</td>\n",
       "      <td>0.075000</td>\n",
       "      <td>32032.3</td>\n",
       "      <td>29</td>\n",
       "      <td>1079.8</td>\n",
       "      <td>1250</td>\n",
       "      <td>2012-09-30</td>\n",
       "      <td>134997</td>\n",
       "    </tr>\n",
       "    <tr>\n",
       "      <th>31</th>\n",
       "      <td>12.032130</td>\n",
       "      <td>23447672.1</td>\n",
       "      <td>104.2</td>\n",
       "      <td>18975260.0</td>\n",
       "      <td>83898190.0</td>\n",
       "      <td>0.075000</td>\n",
       "      <td>28340.9</td>\n",
       "      <td>29</td>\n",
       "      <td>1079.8</td>\n",
       "      <td>1250</td>\n",
       "      <td>2012-12-31</td>\n",
       "      <td>168069</td>\n",
       "    </tr>\n",
       "    <tr>\n",
       "      <th>32</th>\n",
       "      <td>11.854492</td>\n",
       "      <td>24670818.7</td>\n",
       "      <td>105.7</td>\n",
       "      <td>18975260.0</td>\n",
       "      <td>83898190.0</td>\n",
       "      <td>0.075000</td>\n",
       "      <td>27365.0</td>\n",
       "      <td>31</td>\n",
       "      <td>1079.8</td>\n",
       "      <td>1250</td>\n",
       "      <td>2013-03-31</td>\n",
       "      <td>140715</td>\n",
       "    </tr>\n",
       "    <tr>\n",
       "      <th>33</th>\n",
       "      <td>12.149608</td>\n",
       "      <td>23473963.7</td>\n",
       "      <td>107.8</td>\n",
       "      <td>20597620.0</td>\n",
       "      <td>95173860.0</td>\n",
       "      <td>0.080000</td>\n",
       "      <td>22507.2</td>\n",
       "      <td>31</td>\n",
       "      <td>1265.2</td>\n",
       "      <td>1310</td>\n",
       "      <td>2013-06-30</td>\n",
       "      <td>189020</td>\n",
       "    </tr>\n",
       "    <tr>\n",
       "      <th>34</th>\n",
       "      <td>11.985825</td>\n",
       "      <td>23570788.7</td>\n",
       "      <td>112.4</td>\n",
       "      <td>20597620.0</td>\n",
       "      <td>95173860.0</td>\n",
       "      <td>0.080000</td>\n",
       "      <td>30731.4</td>\n",
       "      <td>31</td>\n",
       "      <td>1265.2</td>\n",
       "      <td>1310</td>\n",
       "      <td>2013-09-30</td>\n",
       "      <td>160464</td>\n",
       "    </tr>\n",
       "    <tr>\n",
       "      <th>35</th>\n",
       "      <td>12.199486</td>\n",
       "      <td>24979973.4</td>\n",
       "      <td>115.2</td>\n",
       "      <td>20597620.0</td>\n",
       "      <td>95173860.0</td>\n",
       "      <td>0.080000</td>\n",
       "      <td>42309.7</td>\n",
       "      <td>31</td>\n",
       "      <td>1265.2</td>\n",
       "      <td>1310</td>\n",
       "      <td>2013-12-31</td>\n",
       "      <td>198687</td>\n",
       "    </tr>\n",
       "    <tr>\n",
       "      <th>36</th>\n",
       "      <td>11.950141</td>\n",
       "      <td>25988975.6</td>\n",
       "      <td>113.8</td>\n",
       "      <td>20597620.0</td>\n",
       "      <td>95173860.0</td>\n",
       "      <td>0.080000</td>\n",
       "      <td>42628.2</td>\n",
       "      <td>33</td>\n",
       "      <td>1265.2</td>\n",
       "      <td>1310</td>\n",
       "      <td>2014-03-31</td>\n",
       "      <td>154839</td>\n",
       "    </tr>\n",
       "    <tr>\n",
       "      <th>37</th>\n",
       "      <td>12.144591</td>\n",
       "      <td>25357505.9</td>\n",
       "      <td>115.9</td>\n",
       "      <td>22924040.0</td>\n",
       "      <td>105501680.0</td>\n",
       "      <td>0.073125</td>\n",
       "      <td>41126.9</td>\n",
       "      <td>33</td>\n",
       "      <td>1088.6</td>\n",
       "      <td>1360</td>\n",
       "      <td>2014-06-30</td>\n",
       "      <td>188074</td>\n",
       "    </tr>\n",
       "    <tr>\n",
       "      <th>38</th>\n",
       "      <td>11.982679</td>\n",
       "      <td>25622415.8</td>\n",
       "      <td>119.9</td>\n",
       "      <td>22924040.0</td>\n",
       "      <td>105501680.0</td>\n",
       "      <td>0.073125</td>\n",
       "      <td>49316.1</td>\n",
       "      <td>33</td>\n",
       "      <td>1088.6</td>\n",
       "      <td>1360</td>\n",
       "      <td>2014-09-30</td>\n",
       "      <td>159960</td>\n",
       "    </tr>\n",
       "    <tr>\n",
       "      <th>39</th>\n",
       "      <td>11.994716</td>\n",
       "      <td>26459471.4</td>\n",
       "      <td>119.9</td>\n",
       "      <td>22924040.0</td>\n",
       "      <td>105501680.0</td>\n",
       "      <td>0.073125</td>\n",
       "      <td>44386.5</td>\n",
       "      <td>33</td>\n",
       "      <td>1088.6</td>\n",
       "      <td>1360</td>\n",
       "      <td>2014-12-31</td>\n",
       "      <td>161897</td>\n",
       "    </tr>\n",
       "    <tr>\n",
       "      <th>40</th>\n",
       "      <td>11.669143</td>\n",
       "      <td>27837332.3</td>\n",
       "      <td>119.8</td>\n",
       "      <td>22924040.0</td>\n",
       "      <td>105501680.0</td>\n",
       "      <td>0.073125</td>\n",
       "      <td>49994.2</td>\n",
       "      <td>35</td>\n",
       "      <td>1088.6</td>\n",
       "      <td>1360</td>\n",
       "      <td>2015-03-31</td>\n",
       "      <td>116908</td>\n",
       "    </tr>\n",
       "    <tr>\n",
       "      <th>41</th>\n",
       "      <td>11.997910</td>\n",
       "      <td>27282785.8</td>\n",
       "      <td>121.8</td>\n",
       "      <td>26025380.0</td>\n",
       "      <td>116176150.0</td>\n",
       "      <td>0.063750</td>\n",
       "      <td>46344.3</td>\n",
       "      <td>35</td>\n",
       "      <td>1011.6</td>\n",
       "      <td>1410</td>\n",
       "      <td>2015-06-30</td>\n",
       "      <td>162415</td>\n",
       "    </tr>\n",
       "    <tr>\n",
       "      <th>42</th>\n",
       "      <td>11.744735</td>\n",
       "      <td>27680871.0</td>\n",
       "      <td>124.6</td>\n",
       "      <td>26025380.0</td>\n",
       "      <td>116176150.0</td>\n",
       "      <td>0.063750</td>\n",
       "      <td>53396.5</td>\n",
       "      <td>35</td>\n",
       "      <td>1011.6</td>\n",
       "      <td>1410</td>\n",
       "      <td>2015-09-30</td>\n",
       "      <td>126088</td>\n",
       "    </tr>\n",
       "    <tr>\n",
       "      <th>43</th>\n",
       "      <td>11.977753</td>\n",
       "      <td>28363873.9</td>\n",
       "      <td>126.3</td>\n",
       "      <td>26025380.0</td>\n",
       "      <td>116176150.0</td>\n",
       "      <td>0.063750</td>\n",
       "      <td>53300.6</td>\n",
       "      <td>35</td>\n",
       "      <td>1011.6</td>\n",
       "      <td>1410</td>\n",
       "      <td>2015-12-31</td>\n",
       "      <td>159174</td>\n",
       "    </tr>\n",
       "    <tr>\n",
       "      <th>44</th>\n",
       "      <td>11.724579</td>\n",
       "      <td>30367379.1</td>\n",
       "      <td>126.1</td>\n",
       "      <td>26025380.0</td>\n",
       "      <td>116176150.0</td>\n",
       "      <td>0.063750</td>\n",
       "      <td>35771.9</td>\n",
       "      <td>36</td>\n",
       "      <td>1011.6</td>\n",
       "      <td>1410</td>\n",
       "      <td>2016-03-31</td>\n",
       "      <td>123572</td>\n",
       "    </tr>\n",
       "    <tr>\n",
       "      <th>45</th>\n",
       "      <td>12.111861</td>\n",
       "      <td>29650877.8</td>\n",
       "      <td>128.7</td>\n",
       "      <td>26819570.0</td>\n",
       "      <td>127919400.0</td>\n",
       "      <td>0.060000</td>\n",
       "      <td>62971.5</td>\n",
       "      <td>36</td>\n",
       "      <td>1102.6</td>\n",
       "      <td>1470</td>\n",
       "      <td>2016-06-30</td>\n",
       "      <td>182018</td>\n",
       "    </tr>\n",
       "    <tr>\n",
       "      <th>46</th>\n",
       "      <td>11.962171</td>\n",
       "      <td>30357558.3</td>\n",
       "      <td>131.0</td>\n",
       "      <td>26819570.0</td>\n",
       "      <td>127919400.0</td>\n",
       "      <td>0.060000</td>\n",
       "      <td>73627.7</td>\n",
       "      <td>36</td>\n",
       "      <td>1102.6</td>\n",
       "      <td>1470</td>\n",
       "      <td>2016-09-30</td>\n",
       "      <td>156713</td>\n",
       "    </tr>\n",
       "    <tr>\n",
       "      <th>47</th>\n",
       "      <td>12.124678</td>\n",
       "      <td>30796216.1</td>\n",
       "      <td>131.0</td>\n",
       "      <td>26819570.0</td>\n",
       "      <td>127919400.0</td>\n",
       "      <td>0.060000</td>\n",
       "      <td>70009.2</td>\n",
       "      <td>36</td>\n",
       "      <td>1102.6</td>\n",
       "      <td>1470</td>\n",
       "      <td>2016-12-31</td>\n",
       "      <td>184366</td>\n",
       "    </tr>\n",
       "    <tr>\n",
       "      <th>48</th>\n",
       "      <td>11.835719</td>\n",
       "      <td>32277283.1</td>\n",
       "      <td>130.6</td>\n",
       "      <td>26819570.0</td>\n",
       "      <td>127919400.0</td>\n",
       "      <td>0.060000</td>\n",
       "      <td>102267.1</td>\n",
       "      <td>39</td>\n",
       "      <td>1102.6</td>\n",
       "      <td>1470</td>\n",
       "      <td>2017-03-31</td>\n",
       "      <td>138098</td>\n",
       "    </tr>\n",
       "    <tr>\n",
       "      <th>49</th>\n",
       "      <td>12.188835</td>\n",
       "      <td>31463362.8</td>\n",
       "      <td>131.5</td>\n",
       "      <td>32673313.0</td>\n",
       "      <td>139625865.0</td>\n",
       "      <td>0.062500</td>\n",
       "      <td>108897.0</td>\n",
       "      <td>39</td>\n",
       "      <td>1086.4</td>\n",
       "      <td>1550</td>\n",
       "      <td>2017-06-30</td>\n",
       "      <td>196582</td>\n",
       "    </tr>\n",
       "    <tr>\n",
       "      <th>50</th>\n",
       "      <td>12.240986</td>\n",
       "      <td>31971954.9</td>\n",
       "      <td>134.9</td>\n",
       "      <td>32673313.0</td>\n",
       "      <td>139625865.0</td>\n",
       "      <td>0.062500</td>\n",
       "      <td>111569.5</td>\n",
       "      <td>39</td>\n",
       "      <td>1086.4</td>\n",
       "      <td>1550</td>\n",
       "      <td>2017-09-30</td>\n",
       "      <td>207106</td>\n",
       "    </tr>\n",
       "    <tr>\n",
       "      <th>51</th>\n",
       "      <td>12.203740</td>\n",
       "      <td>32849916.6</td>\n",
       "      <td>137.0</td>\n",
       "      <td>32673313.0</td>\n",
       "      <td>139625865.0</td>\n",
       "      <td>0.062500</td>\n",
       "      <td>116556.9</td>\n",
       "      <td>39</td>\n",
       "      <td>1086.4</td>\n",
       "      <td>1550</td>\n",
       "      <td>2017-12-31</td>\n",
       "      <td>199534</td>\n",
       "    </tr>\n",
       "    <tr>\n",
       "      <th>52</th>\n",
       "      <td>12.173813</td>\n",
       "      <td>35160583.5</td>\n",
       "      <td>136.6</td>\n",
       "      <td>32673313.0</td>\n",
       "      <td>139625865.0</td>\n",
       "      <td>0.062500</td>\n",
       "      <td>115789.6</td>\n",
       "      <td>42</td>\n",
       "      <td>1086.4</td>\n",
       "      <td>1550</td>\n",
       "      <td>2018-03-31</td>\n",
       "      <td>193651</td>\n",
       "    </tr>\n",
       "    <tr>\n",
       "      <th>53</th>\n",
       "      <td>12.419513</td>\n",
       "      <td>33823008.3</td>\n",
       "      <td>137.8</td>\n",
       "      <td>37104635.6</td>\n",
       "      <td>154320668.6</td>\n",
       "      <td>0.056167</td>\n",
       "      <td>131573.0</td>\n",
       "      <td>42</td>\n",
       "      <td>1025.6</td>\n",
       "      <td>1750</td>\n",
       "      <td>2018-06-30</td>\n",
       "      <td>247586</td>\n",
       "    </tr>\n",
       "    <tr>\n",
       "      <th>54</th>\n",
       "      <td>12.255267</td>\n",
       "      <td>34036441.9</td>\n",
       "      <td>140.1</td>\n",
       "      <td>37104635.6</td>\n",
       "      <td>154320668.6</td>\n",
       "      <td>0.056167</td>\n",
       "      <td>140941.1</td>\n",
       "      <td>42</td>\n",
       "      <td>1025.6</td>\n",
       "      <td>1750</td>\n",
       "      <td>2018-09-30</td>\n",
       "      <td>210085</td>\n",
       "    </tr>\n",
       "    <tr>\n",
       "      <th>55</th>\n",
       "      <td>12.410734</td>\n",
       "      <td>34897608.9</td>\n",
       "      <td>140.5</td>\n",
       "      <td>37104635.6</td>\n",
       "      <td>154320668.6</td>\n",
       "      <td>0.056167</td>\n",
       "      <td>147720.4</td>\n",
       "      <td>42</td>\n",
       "      <td>1025.6</td>\n",
       "      <td>1750</td>\n",
       "      <td>2018-12-31</td>\n",
       "      <td>245422</td>\n",
       "    </tr>\n",
       "    <tr>\n",
       "      <th>56</th>\n",
       "      <td>12.114259</td>\n",
       "      <td>37172100.4</td>\n",
       "      <td>140.0</td>\n",
       "      <td>37104635.6</td>\n",
       "      <td>154320668.6</td>\n",
       "      <td>0.056167</td>\n",
       "      <td>145526.7</td>\n",
       "      <td>45</td>\n",
       "      <td>1025.6</td>\n",
       "      <td>1750</td>\n",
       "      <td>2019-03-31</td>\n",
       "      <td>182455</td>\n",
       "    </tr>\n",
       "  </tbody>\n",
       "</table>\n",
       "</div>"
      ],
      "text/plain": [
       "            y         GDP  CPI General Index  M1 Rs. Million  M3 Rs. Million  \\\n",
       "28  11.904853  23654614.0               95.7      17373940.0      73848310.0   \n",
       "29  11.950935  22052234.4               98.7      18975260.0      83898190.0   \n",
       "30  11.813008  21959458.8              102.1      18975260.0      83898190.0   \n",
       "31  12.032130  23447672.1              104.2      18975260.0      83898190.0   \n",
       "32  11.854492  24670818.7              105.7      18975260.0      83898190.0   \n",
       "33  12.149608  23473963.7              107.8      20597620.0      95173860.0   \n",
       "34  11.985825  23570788.7              112.4      20597620.0      95173860.0   \n",
       "35  12.199486  24979973.4              115.2      20597620.0      95173860.0   \n",
       "36  11.950141  25988975.6              113.8      20597620.0      95173860.0   \n",
       "37  12.144591  25357505.9              115.9      22924040.0     105501680.0   \n",
       "38  11.982679  25622415.8              119.9      22924040.0     105501680.0   \n",
       "39  11.994716  26459471.4              119.9      22924040.0     105501680.0   \n",
       "40  11.669143  27837332.3              119.8      22924040.0     105501680.0   \n",
       "41  11.997910  27282785.8              121.8      26025380.0     116176150.0   \n",
       "42  11.744735  27680871.0              124.6      26025380.0     116176150.0   \n",
       "43  11.977753  28363873.9              126.3      26025380.0     116176150.0   \n",
       "44  11.724579  30367379.1              126.1      26025380.0     116176150.0   \n",
       "45  12.111861  29650877.8              128.7      26819570.0     127919400.0   \n",
       "46  11.962171  30357558.3              131.0      26819570.0     127919400.0   \n",
       "47  12.124678  30796216.1              131.0      26819570.0     127919400.0   \n",
       "48  11.835719  32277283.1              130.6      26819570.0     127919400.0   \n",
       "49  12.188835  31463362.8              131.5      32673313.0     139625865.0   \n",
       "50  12.240986  31971954.9              134.9      32673313.0     139625865.0   \n",
       "51  12.203740  32849916.6              137.0      32673313.0     139625865.0   \n",
       "52  12.173813  35160583.5              136.6      32673313.0     139625865.0   \n",
       "53  12.419513  33823008.3              137.8      37104635.6     154320668.6   \n",
       "54  12.255267  34036441.9              140.1      37104635.6     154320668.6   \n",
       "55  12.410734  34897608.9              140.5      37104635.6     154320668.6   \n",
       "56  12.114259  37172100.4              140.0      37104635.6     154320668.6   \n",
       "\n",
       "    Repo Rate  Purchase of Finish goods.  Mechanization  Actual_rainfall  \\\n",
       "28   0.066250                    30239.7             29           1096.7   \n",
       "29   0.075000                    27988.8             29           1079.8   \n",
       "30   0.075000                    32032.3             29           1079.8   \n",
       "31   0.075000                    28340.9             29           1079.8   \n",
       "32   0.075000                    27365.0             31           1079.8   \n",
       "33   0.080000                    22507.2             31           1265.2   \n",
       "34   0.080000                    30731.4             31           1265.2   \n",
       "35   0.080000                    42309.7             31           1265.2   \n",
       "36   0.080000                    42628.2             33           1265.2   \n",
       "37   0.073125                    41126.9             33           1088.6   \n",
       "38   0.073125                    49316.1             33           1088.6   \n",
       "39   0.073125                    44386.5             33           1088.6   \n",
       "40   0.073125                    49994.2             35           1088.6   \n",
       "41   0.063750                    46344.3             35           1011.6   \n",
       "42   0.063750                    53396.5             35           1011.6   \n",
       "43   0.063750                    53300.6             35           1011.6   \n",
       "44   0.063750                    35771.9             36           1011.6   \n",
       "45   0.060000                    62971.5             36           1102.6   \n",
       "46   0.060000                    73627.7             36           1102.6   \n",
       "47   0.060000                    70009.2             36           1102.6   \n",
       "48   0.060000                   102267.1             39           1102.6   \n",
       "49   0.062500                   108897.0             39           1086.4   \n",
       "50   0.062500                   111569.5             39           1086.4   \n",
       "51   0.062500                   116556.9             39           1086.4   \n",
       "52   0.062500                   115789.6             42           1086.4   \n",
       "53   0.056167                   131573.0             42           1025.6   \n",
       "54   0.056167                   140941.1             42           1025.6   \n",
       "55   0.056167                   147720.4             42           1025.6   \n",
       "56   0.056167                   145526.7             45           1025.6   \n",
       "\n",
       "    Kharif_prices         ds  y_orig  \n",
       "28           1080 2012-03-31  147983  \n",
       "29           1250 2012-06-30  154962  \n",
       "30           1250 2012-09-30  134997  \n",
       "31           1250 2012-12-31  168069  \n",
       "32           1250 2013-03-31  140715  \n",
       "33           1310 2013-06-30  189020  \n",
       "34           1310 2013-09-30  160464  \n",
       "35           1310 2013-12-31  198687  \n",
       "36           1310 2014-03-31  154839  \n",
       "37           1360 2014-06-30  188074  \n",
       "38           1360 2014-09-30  159960  \n",
       "39           1360 2014-12-31  161897  \n",
       "40           1360 2015-03-31  116908  \n",
       "41           1410 2015-06-30  162415  \n",
       "42           1410 2015-09-30  126088  \n",
       "43           1410 2015-12-31  159174  \n",
       "44           1410 2016-03-31  123572  \n",
       "45           1470 2016-06-30  182018  \n",
       "46           1470 2016-09-30  156713  \n",
       "47           1470 2016-12-31  184366  \n",
       "48           1470 2017-03-31  138098  \n",
       "49           1550 2017-06-30  196582  \n",
       "50           1550 2017-09-30  207106  \n",
       "51           1550 2017-12-31  199534  \n",
       "52           1550 2018-03-31  193651  \n",
       "53           1750 2018-06-30  247586  \n",
       "54           1750 2018-09-30  210085  \n",
       "55           1750 2018-12-31  245422  \n",
       "56           1750 2019-03-31  182455  "
      ]
     },
     "execution_count": 85,
     "metadata": {},
     "output_type": "execute_result"
    }
   ],
   "source": [
    "df_train"
   ]
  },
  {
   "cell_type": "code",
   "execution_count": null,
   "id": "a9d4108e",
   "metadata": {},
   "outputs": [],
   "source": [
    "# Training the model"
   ]
  },
  {
   "cell_type": "code",
   "execution_count": 86,
   "id": "MD_4F21G4v3F",
   "metadata": {
    "colab": {
     "base_uri": "https://localhost:8080/"
    },
    "id": "MD_4F21G4v3F",
    "outputId": "b9c53645-cd76-4ebc-d296-c69bd0037f3d"
   },
   "outputs": [
    {
     "name": "stderr",
     "output_type": "stream",
     "text": [
      "00:26:37 - cmdstanpy - INFO - Chain [1] start processing\n",
      "00:26:37 - cmdstanpy - INFO - Chain [1] done processing\n"
     ]
    },
    {
     "data": {
      "text/plain": [
       "<prophet.forecaster.Prophet at 0x163123c2190>"
      ]
     },
     "execution_count": 86,
     "metadata": {},
     "output_type": "execute_result"
    }
   ],
   "source": [
    "model_new.fit(df_train)"
   ]
  },
  {
   "cell_type": "code",
   "execution_count": 87,
   "id": "645d09b6",
   "metadata": {},
   "outputs": [],
   "source": [
    "future_data = model_new.make_future_dataframe(periods=11, freq = 'Q')"
   ]
  },
  {
   "cell_type": "code",
   "execution_count": 97,
   "id": "61a0c308",
   "metadata": {},
   "outputs": [],
   "source": [
    "# Creating dataframe for future data"
   ]
  },
  {
   "cell_type": "code",
   "execution_count": 88,
   "id": "e8873d65",
   "metadata": {},
   "outputs": [],
   "source": [
    "df_test = df_test.rename(columns={'Tractor_sales':'y', 'Time_Stamp':'ds'})\n",
    "future_data=df_test[['ds','GDP', 'CPI General Index', 'M1 Rs. Million', 'M3 Rs. Million',\n",
    "       'Repo Rate', 'Purchase of Finish goods.', 'Mechanization',\n",
    "       'Actual_rainfall', 'Kharif_prices' ]]"
   ]
  },
  {
   "cell_type": "code",
   "execution_count": 98,
   "id": "cc202a3d",
   "metadata": {},
   "outputs": [],
   "source": [
    "# Predicting the future data"
   ]
  },
  {
   "cell_type": "code",
   "execution_count": 89,
   "id": "6_LplXZy4v8z",
   "metadata": {
    "id": "6_LplXZy4v8z"
   },
   "outputs": [
    {
     "data": {
      "text/html": [
       "<div>\n",
       "<style scoped>\n",
       "    .dataframe tbody tr th:only-of-type {\n",
       "        vertical-align: middle;\n",
       "    }\n",
       "\n",
       "    .dataframe tbody tr th {\n",
       "        vertical-align: top;\n",
       "    }\n",
       "\n",
       "    .dataframe thead th {\n",
       "        text-align: right;\n",
       "    }\n",
       "</style>\n",
       "<table border=\"1\" class=\"dataframe\">\n",
       "  <thead>\n",
       "    <tr style=\"text-align: right;\">\n",
       "      <th></th>\n",
       "      <th>ds</th>\n",
       "      <th>trend</th>\n",
       "      <th>yhat_lower</th>\n",
       "      <th>yhat_upper</th>\n",
       "      <th>trend_lower</th>\n",
       "      <th>trend_upper</th>\n",
       "      <th>Actual_rainfall</th>\n",
       "      <th>Actual_rainfall_lower</th>\n",
       "      <th>Actual_rainfall_upper</th>\n",
       "      <th>CPI General Index</th>\n",
       "      <th>...</th>\n",
       "      <th>extra_regressors_additive</th>\n",
       "      <th>extra_regressors_additive_lower</th>\n",
       "      <th>extra_regressors_additive_upper</th>\n",
       "      <th>yearly</th>\n",
       "      <th>yearly_lower</th>\n",
       "      <th>yearly_upper</th>\n",
       "      <th>multiplicative_terms</th>\n",
       "      <th>multiplicative_terms_lower</th>\n",
       "      <th>multiplicative_terms_upper</th>\n",
       "      <th>yhat</th>\n",
       "    </tr>\n",
       "  </thead>\n",
       "  <tbody>\n",
       "    <tr>\n",
       "      <th>0</th>\n",
       "      <td>2019-09-30</td>\n",
       "      <td>-7.533635</td>\n",
       "      <td>12.072590</td>\n",
       "      <td>12.128656</td>\n",
       "      <td>-7.536110</td>\n",
       "      <td>-7.530808</td>\n",
       "      <td>-0.132428</td>\n",
       "      <td>-0.132428</td>\n",
       "      <td>-0.132428</td>\n",
       "      <td>0.100777</td>\n",
       "      <td>...</td>\n",
       "      <td>5.515659</td>\n",
       "      <td>5.515659</td>\n",
       "      <td>5.515659</td>\n",
       "      <td>14.118952</td>\n",
       "      <td>14.118952</td>\n",
       "      <td>14.118952</td>\n",
       "      <td>0.0</td>\n",
       "      <td>0.0</td>\n",
       "      <td>0.0</td>\n",
       "      <td>12.100976</td>\n",
       "    </tr>\n",
       "    <tr>\n",
       "      <th>1</th>\n",
       "      <td>2019-12-31</td>\n",
       "      <td>-7.847636</td>\n",
       "      <td>12.347235</td>\n",
       "      <td>12.409470</td>\n",
       "      <td>-7.855409</td>\n",
       "      <td>-7.838563</td>\n",
       "      <td>-0.132428</td>\n",
       "      <td>-0.132428</td>\n",
       "      <td>-0.132428</td>\n",
       "      <td>0.117276</td>\n",
       "      <td>...</td>\n",
       "      <td>5.614107</td>\n",
       "      <td>5.614107</td>\n",
       "      <td>5.614107</td>\n",
       "      <td>14.610076</td>\n",
       "      <td>14.610076</td>\n",
       "      <td>14.610076</td>\n",
       "      <td>0.0</td>\n",
       "      <td>0.0</td>\n",
       "      <td>0.0</td>\n",
       "      <td>12.376547</td>\n",
       "    </tr>\n",
       "    <tr>\n",
       "      <th>2</th>\n",
       "      <td>2020-03-31</td>\n",
       "      <td>-8.158225</td>\n",
       "      <td>11.934500</td>\n",
       "      <td>12.002300</td>\n",
       "      <td>-8.172757</td>\n",
       "      <td>-8.140145</td>\n",
       "      <td>-0.132428</td>\n",
       "      <td>-0.132428</td>\n",
       "      <td>-0.132428</td>\n",
       "      <td>0.119951</td>\n",
       "      <td>...</td>\n",
       "      <td>5.600087</td>\n",
       "      <td>5.600087</td>\n",
       "      <td>5.600087</td>\n",
       "      <td>14.525694</td>\n",
       "      <td>14.525694</td>\n",
       "      <td>14.525694</td>\n",
       "      <td>0.0</td>\n",
       "      <td>0.0</td>\n",
       "      <td>0.0</td>\n",
       "      <td>11.967556</td>\n",
       "    </tr>\n",
       "    <tr>\n",
       "      <th>3</th>\n",
       "      <td>2020-06-30</td>\n",
       "      <td>-8.468814</td>\n",
       "      <td>11.964175</td>\n",
       "      <td>12.042441</td>\n",
       "      <td>-8.492211</td>\n",
       "      <td>-8.439876</td>\n",
       "      <td>-0.097138</td>\n",
       "      <td>-0.097138</td>\n",
       "      <td>-0.097138</td>\n",
       "      <td>0.129315</td>\n",
       "      <td>...</td>\n",
       "      <td>6.481369</td>\n",
       "      <td>6.481369</td>\n",
       "      <td>6.481369</td>\n",
       "      <td>13.991152</td>\n",
       "      <td>13.991152</td>\n",
       "      <td>13.991152</td>\n",
       "      <td>0.0</td>\n",
       "      <td>0.0</td>\n",
       "      <td>0.0</td>\n",
       "      <td>12.003707</td>\n",
       "    </tr>\n",
       "    <tr>\n",
       "      <th>4</th>\n",
       "      <td>2020-09-30</td>\n",
       "      <td>-8.782815</td>\n",
       "      <td>12.783015</td>\n",
       "      <td>12.879471</td>\n",
       "      <td>-8.817147</td>\n",
       "      <td>-8.740941</td>\n",
       "      <td>-0.097138</td>\n",
       "      <td>-0.097138</td>\n",
       "      <td>-0.097138</td>\n",
       "      <td>0.145368</td>\n",
       "      <td>...</td>\n",
       "      <td>7.476458</td>\n",
       "      <td>7.476458</td>\n",
       "      <td>7.476458</td>\n",
       "      <td>14.136914</td>\n",
       "      <td>14.136914</td>\n",
       "      <td>14.136914</td>\n",
       "      <td>0.0</td>\n",
       "      <td>0.0</td>\n",
       "      <td>0.0</td>\n",
       "      <td>12.830556</td>\n",
       "    </tr>\n",
       "    <tr>\n",
       "      <th>5</th>\n",
       "      <td>2020-12-31</td>\n",
       "      <td>-9.096817</td>\n",
       "      <td>13.340072</td>\n",
       "      <td>13.456492</td>\n",
       "      <td>-9.143455</td>\n",
       "      <td>-9.042977</td>\n",
       "      <td>-0.097138</td>\n",
       "      <td>-0.097138</td>\n",
       "      <td>-0.097138</td>\n",
       "      <td>0.159638</td>\n",
       "      <td>...</td>\n",
       "      <td>8.006871</td>\n",
       "      <td>8.006871</td>\n",
       "      <td>8.006871</td>\n",
       "      <td>14.487021</td>\n",
       "      <td>14.487021</td>\n",
       "      <td>14.487021</td>\n",
       "      <td>0.0</td>\n",
       "      <td>0.0</td>\n",
       "      <td>0.0</td>\n",
       "      <td>13.397075</td>\n",
       "    </tr>\n",
       "    <tr>\n",
       "      <th>6</th>\n",
       "      <td>2021-03-31</td>\n",
       "      <td>-9.403993</td>\n",
       "      <td>13.163874</td>\n",
       "      <td>13.305229</td>\n",
       "      <td>-9.464294</td>\n",
       "      <td>-9.337895</td>\n",
       "      <td>-0.097138</td>\n",
       "      <td>-0.097138</td>\n",
       "      <td>-0.097138</td>\n",
       "      <td>0.152503</td>\n",
       "      <td>...</td>\n",
       "      <td>7.983685</td>\n",
       "      <td>7.983685</td>\n",
       "      <td>7.983685</td>\n",
       "      <td>14.651964</td>\n",
       "      <td>14.651964</td>\n",
       "      <td>14.651964</td>\n",
       "      <td>0.0</td>\n",
       "      <td>0.0</td>\n",
       "      <td>0.0</td>\n",
       "      <td>13.231656</td>\n",
       "    </tr>\n",
       "    <tr>\n",
       "      <th>7</th>\n",
       "      <td>2021-06-30</td>\n",
       "      <td>-9.714581</td>\n",
       "      <td>13.368574</td>\n",
       "      <td>13.533178</td>\n",
       "      <td>-9.792109</td>\n",
       "      <td>-9.629525</td>\n",
       "      <td>-0.084047</td>\n",
       "      <td>-0.084047</td>\n",
       "      <td>-0.084047</td>\n",
       "      <td>0.166772</td>\n",
       "      <td>...</td>\n",
       "      <td>9.162840</td>\n",
       "      <td>9.162840</td>\n",
       "      <td>9.162840</td>\n",
       "      <td>13.998735</td>\n",
       "      <td>13.998735</td>\n",
       "      <td>13.998735</td>\n",
       "      <td>0.0</td>\n",
       "      <td>0.0</td>\n",
       "      <td>0.0</td>\n",
       "      <td>13.446993</td>\n",
       "    </tr>\n",
       "    <tr>\n",
       "      <th>8</th>\n",
       "      <td>2021-09-30</td>\n",
       "      <td>-10.028583</td>\n",
       "      <td>13.800306</td>\n",
       "      <td>13.999002</td>\n",
       "      <td>-10.118882</td>\n",
       "      <td>-9.927951</td>\n",
       "      <td>-0.084047</td>\n",
       "      <td>-0.084047</td>\n",
       "      <td>-0.084047</td>\n",
       "      <td>0.180596</td>\n",
       "      <td>...</td>\n",
       "      <td>9.745177</td>\n",
       "      <td>9.745177</td>\n",
       "      <td>9.745177</td>\n",
       "      <td>14.179269</td>\n",
       "      <td>14.179269</td>\n",
       "      <td>14.179269</td>\n",
       "      <td>0.0</td>\n",
       "      <td>0.0</td>\n",
       "      <td>0.0</td>\n",
       "      <td>13.895863</td>\n",
       "    </tr>\n",
       "    <tr>\n",
       "      <th>9</th>\n",
       "      <td>2021-12-31</td>\n",
       "      <td>-10.342585</td>\n",
       "      <td>14.085322</td>\n",
       "      <td>14.318240</td>\n",
       "      <td>-10.449015</td>\n",
       "      <td>-10.225251</td>\n",
       "      <td>-0.084047</td>\n",
       "      <td>-0.084047</td>\n",
       "      <td>-0.084047</td>\n",
       "      <td>0.194865</td>\n",
       "      <td>...</td>\n",
       "      <td>10.137201</td>\n",
       "      <td>10.137201</td>\n",
       "      <td>10.137201</td>\n",
       "      <td>14.406239</td>\n",
       "      <td>14.406239</td>\n",
       "      <td>14.406239</td>\n",
       "      <td>0.0</td>\n",
       "      <td>0.0</td>\n",
       "      <td>0.0</td>\n",
       "      <td>14.200856</td>\n",
       "    </tr>\n",
       "    <tr>\n",
       "      <th>10</th>\n",
       "      <td>2022-03-31</td>\n",
       "      <td>-10.649760</td>\n",
       "      <td>14.399820</td>\n",
       "      <td>14.661917</td>\n",
       "      <td>-10.772448</td>\n",
       "      <td>-10.515172</td>\n",
       "      <td>-0.084047</td>\n",
       "      <td>-0.084047</td>\n",
       "      <td>-0.084047</td>\n",
       "      <td>0.196649</td>\n",
       "      <td>...</td>\n",
       "      <td>10.536822</td>\n",
       "      <td>10.536822</td>\n",
       "      <td>10.536822</td>\n",
       "      <td>14.638649</td>\n",
       "      <td>14.638649</td>\n",
       "      <td>14.638649</td>\n",
       "      <td>0.0</td>\n",
       "      <td>0.0</td>\n",
       "      <td>0.0</td>\n",
       "      <td>14.525710</td>\n",
       "    </tr>\n",
       "  </tbody>\n",
       "</table>\n",
       "<p>11 rows × 46 columns</p>\n",
       "</div>"
      ],
      "text/plain": [
       "           ds      trend  yhat_lower  yhat_upper  trend_lower  trend_upper  \\\n",
       "0  2019-09-30  -7.533635   12.072590   12.128656    -7.536110    -7.530808   \n",
       "1  2019-12-31  -7.847636   12.347235   12.409470    -7.855409    -7.838563   \n",
       "2  2020-03-31  -8.158225   11.934500   12.002300    -8.172757    -8.140145   \n",
       "3  2020-06-30  -8.468814   11.964175   12.042441    -8.492211    -8.439876   \n",
       "4  2020-09-30  -8.782815   12.783015   12.879471    -8.817147    -8.740941   \n",
       "5  2020-12-31  -9.096817   13.340072   13.456492    -9.143455    -9.042977   \n",
       "6  2021-03-31  -9.403993   13.163874   13.305229    -9.464294    -9.337895   \n",
       "7  2021-06-30  -9.714581   13.368574   13.533178    -9.792109    -9.629525   \n",
       "8  2021-09-30 -10.028583   13.800306   13.999002   -10.118882    -9.927951   \n",
       "9  2021-12-31 -10.342585   14.085322   14.318240   -10.449015   -10.225251   \n",
       "10 2022-03-31 -10.649760   14.399820   14.661917   -10.772448   -10.515172   \n",
       "\n",
       "    Actual_rainfall  Actual_rainfall_lower  Actual_rainfall_upper  \\\n",
       "0         -0.132428              -0.132428              -0.132428   \n",
       "1         -0.132428              -0.132428              -0.132428   \n",
       "2         -0.132428              -0.132428              -0.132428   \n",
       "3         -0.097138              -0.097138              -0.097138   \n",
       "4         -0.097138              -0.097138              -0.097138   \n",
       "5         -0.097138              -0.097138              -0.097138   \n",
       "6         -0.097138              -0.097138              -0.097138   \n",
       "7         -0.084047              -0.084047              -0.084047   \n",
       "8         -0.084047              -0.084047              -0.084047   \n",
       "9         -0.084047              -0.084047              -0.084047   \n",
       "10        -0.084047              -0.084047              -0.084047   \n",
       "\n",
       "    CPI General Index  ...  extra_regressors_additive  \\\n",
       "0            0.100777  ...                   5.515659   \n",
       "1            0.117276  ...                   5.614107   \n",
       "2            0.119951  ...                   5.600087   \n",
       "3            0.129315  ...                   6.481369   \n",
       "4            0.145368  ...                   7.476458   \n",
       "5            0.159638  ...                   8.006871   \n",
       "6            0.152503  ...                   7.983685   \n",
       "7            0.166772  ...                   9.162840   \n",
       "8            0.180596  ...                   9.745177   \n",
       "9            0.194865  ...                  10.137201   \n",
       "10           0.196649  ...                  10.536822   \n",
       "\n",
       "    extra_regressors_additive_lower  extra_regressors_additive_upper  \\\n",
       "0                          5.515659                         5.515659   \n",
       "1                          5.614107                         5.614107   \n",
       "2                          5.600087                         5.600087   \n",
       "3                          6.481369                         6.481369   \n",
       "4                          7.476458                         7.476458   \n",
       "5                          8.006871                         8.006871   \n",
       "6                          7.983685                         7.983685   \n",
       "7                          9.162840                         9.162840   \n",
       "8                          9.745177                         9.745177   \n",
       "9                         10.137201                        10.137201   \n",
       "10                        10.536822                        10.536822   \n",
       "\n",
       "       yearly  yearly_lower  yearly_upper  multiplicative_terms  \\\n",
       "0   14.118952     14.118952     14.118952                   0.0   \n",
       "1   14.610076     14.610076     14.610076                   0.0   \n",
       "2   14.525694     14.525694     14.525694                   0.0   \n",
       "3   13.991152     13.991152     13.991152                   0.0   \n",
       "4   14.136914     14.136914     14.136914                   0.0   \n",
       "5   14.487021     14.487021     14.487021                   0.0   \n",
       "6   14.651964     14.651964     14.651964                   0.0   \n",
       "7   13.998735     13.998735     13.998735                   0.0   \n",
       "8   14.179269     14.179269     14.179269                   0.0   \n",
       "9   14.406239     14.406239     14.406239                   0.0   \n",
       "10  14.638649     14.638649     14.638649                   0.0   \n",
       "\n",
       "    multiplicative_terms_lower  multiplicative_terms_upper       yhat  \n",
       "0                          0.0                         0.0  12.100976  \n",
       "1                          0.0                         0.0  12.376547  \n",
       "2                          0.0                         0.0  11.967556  \n",
       "3                          0.0                         0.0  12.003707  \n",
       "4                          0.0                         0.0  12.830556  \n",
       "5                          0.0                         0.0  13.397075  \n",
       "6                          0.0                         0.0  13.231656  \n",
       "7                          0.0                         0.0  13.446993  \n",
       "8                          0.0                         0.0  13.895863  \n",
       "9                          0.0                         0.0  14.200856  \n",
       "10                         0.0                         0.0  14.525710  \n",
       "\n",
       "[11 rows x 46 columns]"
      ]
     },
     "execution_count": 89,
     "metadata": {},
     "output_type": "execute_result"
    }
   ],
   "source": [
    "forecast_data = model_new.predict(future_data)\n",
    "forecast_data"
   ]
  },
  {
   "cell_type": "code",
   "execution_count": 90,
   "id": "ef9d38f3",
   "metadata": {},
   "outputs": [
    {
     "data": {
      "text/html": [
       "<div>\n",
       "<style scoped>\n",
       "    .dataframe tbody tr th:only-of-type {\n",
       "        vertical-align: middle;\n",
       "    }\n",
       "\n",
       "    .dataframe tbody tr th {\n",
       "        vertical-align: top;\n",
       "    }\n",
       "\n",
       "    .dataframe thead th {\n",
       "        text-align: right;\n",
       "    }\n",
       "</style>\n",
       "<table border=\"1\" class=\"dataframe\">\n",
       "  <thead>\n",
       "    <tr style=\"text-align: right;\">\n",
       "      <th></th>\n",
       "      <th>ds</th>\n",
       "      <th>yhat</th>\n",
       "      <th>yhat_lower</th>\n",
       "      <th>yhat_upper</th>\n",
       "    </tr>\n",
       "  </thead>\n",
       "  <tbody>\n",
       "    <tr>\n",
       "      <th>0</th>\n",
       "      <td>2019-09-30</td>\n",
       "      <td>12.100976</td>\n",
       "      <td>12.072590</td>\n",
       "      <td>12.128656</td>\n",
       "    </tr>\n",
       "    <tr>\n",
       "      <th>1</th>\n",
       "      <td>2019-12-31</td>\n",
       "      <td>12.376547</td>\n",
       "      <td>12.347235</td>\n",
       "      <td>12.409470</td>\n",
       "    </tr>\n",
       "    <tr>\n",
       "      <th>2</th>\n",
       "      <td>2020-03-31</td>\n",
       "      <td>11.967556</td>\n",
       "      <td>11.934500</td>\n",
       "      <td>12.002300</td>\n",
       "    </tr>\n",
       "    <tr>\n",
       "      <th>3</th>\n",
       "      <td>2020-06-30</td>\n",
       "      <td>12.003707</td>\n",
       "      <td>11.964175</td>\n",
       "      <td>12.042441</td>\n",
       "    </tr>\n",
       "    <tr>\n",
       "      <th>4</th>\n",
       "      <td>2020-09-30</td>\n",
       "      <td>12.830556</td>\n",
       "      <td>12.783015</td>\n",
       "      <td>12.879471</td>\n",
       "    </tr>\n",
       "    <tr>\n",
       "      <th>5</th>\n",
       "      <td>2020-12-31</td>\n",
       "      <td>13.397075</td>\n",
       "      <td>13.340072</td>\n",
       "      <td>13.456492</td>\n",
       "    </tr>\n",
       "    <tr>\n",
       "      <th>6</th>\n",
       "      <td>2021-03-31</td>\n",
       "      <td>13.231656</td>\n",
       "      <td>13.163874</td>\n",
       "      <td>13.305229</td>\n",
       "    </tr>\n",
       "    <tr>\n",
       "      <th>7</th>\n",
       "      <td>2021-06-30</td>\n",
       "      <td>13.446993</td>\n",
       "      <td>13.368574</td>\n",
       "      <td>13.533178</td>\n",
       "    </tr>\n",
       "    <tr>\n",
       "      <th>8</th>\n",
       "      <td>2021-09-30</td>\n",
       "      <td>13.895863</td>\n",
       "      <td>13.800306</td>\n",
       "      <td>13.999002</td>\n",
       "    </tr>\n",
       "    <tr>\n",
       "      <th>9</th>\n",
       "      <td>2021-12-31</td>\n",
       "      <td>14.200856</td>\n",
       "      <td>14.085322</td>\n",
       "      <td>14.318240</td>\n",
       "    </tr>\n",
       "    <tr>\n",
       "      <th>10</th>\n",
       "      <td>2022-03-31</td>\n",
       "      <td>14.525710</td>\n",
       "      <td>14.399820</td>\n",
       "      <td>14.661917</td>\n",
       "    </tr>\n",
       "  </tbody>\n",
       "</table>\n",
       "</div>"
      ],
      "text/plain": [
       "           ds       yhat  yhat_lower  yhat_upper\n",
       "0  2019-09-30  12.100976   12.072590   12.128656\n",
       "1  2019-12-31  12.376547   12.347235   12.409470\n",
       "2  2020-03-31  11.967556   11.934500   12.002300\n",
       "3  2020-06-30  12.003707   11.964175   12.042441\n",
       "4  2020-09-30  12.830556   12.783015   12.879471\n",
       "5  2020-12-31  13.397075   13.340072   13.456492\n",
       "6  2021-03-31  13.231656   13.163874   13.305229\n",
       "7  2021-06-30  13.446993   13.368574   13.533178\n",
       "8  2021-09-30  13.895863   13.800306   13.999002\n",
       "9  2021-12-31  14.200856   14.085322   14.318240\n",
       "10 2022-03-31  14.525710   14.399820   14.661917"
      ]
     },
     "execution_count": 90,
     "metadata": {},
     "output_type": "execute_result"
    }
   ],
   "source": [
    "forecast_data[['ds', 'yhat', 'yhat_lower', 'yhat_upper']].tail(11)"
   ]
  },
  {
   "cell_type": "code",
   "execution_count": 91,
   "id": "07dab2cc",
   "metadata": {
    "id": "07dab2cc"
   },
   "outputs": [
    {
     "data": {
      "image/png": "[encoded data removed]",
      "text/plain": [
       "<Figure size 1000x600 with 1 Axes>"
      ]
     },
     "metadata": {},
     "output_type": "display_data"
    }
   ],
   "source": [
    "model_new.plot(forecast_data)\n",
    "plt.show()"
   ]
  },
  {
   "cell_type": "code",
   "execution_count": 92,
   "id": "ccd8e916",
   "metadata": {
    "id": "ccd8e916"
   },
   "outputs": [
    {
     "data": {
      "image/png": "[encoded data removed]",
      "text/plain": [
       "<Figure size 1000x600 with 1 Axes>"
      ]
     },
     "metadata": {},
     "output_type": "display_data"
    }
   ],
   "source": [
    "# Saving the original forecast data\n",
    "forecast_data_orig = forecast_data \n",
    "forecast_data_orig['yhat'] = np.exp(forecast_data_orig['yhat'])\n",
    "forecast_data_orig['yhat_lower'] = np.exp(forecast_data_orig['yhat_lower'])\n",
    "forecast_data_orig['yhat_upper'] = np.exp(forecast_data_orig['yhat_upper'])\n",
    "\n",
    "model_new.plot(forecast_data_orig)\n",
    "plt.show()"
   ]
  },
  {
   "cell_type": "code",
   "execution_count": 93,
   "id": "88046b3a",
   "metadata": {
    "id": "88046b3a"
   },
   "outputs": [],
   "source": [
    "#copy the log-transformed data to another column\n",
    "df_train['y_log']=df_train['y'] \n",
    "df_train['y']=df_train['y_orig']"
   ]
  },
  {
   "cell_type": "code",
   "execution_count": 94,
   "id": "0411a854",
   "metadata": {
    "id": "0411a854"
   },
   "outputs": [
    {
     "data": {
      "text/plain": [
       "'temp-plot.html'"
      ]
     },
     "execution_count": 94,
     "metadata": {},
     "output_type": "execute_result"
    }
   ],
   "source": [
    "final_df = pd.DataFrame(forecast_data_orig)\n",
    "import plotly.graph_objs as go\n",
    "import plotly.offline as py\n",
    "#Plot predicted and actual line graph with X=dates, Y=Outbound\n",
    "actual_chart = go.Scatter(y=df_train[\"y_orig\"], name= 'Actual')\n",
    "predict_chart = go.Scatter(y=final_df[\"yhat\"], name= 'Predicted')\n",
    "predict_chart_upper = go.Scatter(y=final_df[\"yhat_upper\"], name= 'Predicted Upper')\n",
    "predict_chart_lower = go.Scatter(y=final_df[\"yhat_lower\"], name= 'Predicted Lower')\n",
    "py.plot([actual_chart, predict_chart, predict_chart_upper, predict_chart_lower])"
   ]
  },
  {
   "cell_type": "code",
   "execution_count": null,
   "id": "0054bdcc",
   "metadata": {
    "id": "0054bdcc"
   },
   "outputs": [],
   "source": []
  }
 ],
 "metadata": {
  "colab": {
   "provenance": []
  },
  "kernelspec": {
   "display_name": "Python 3 (ipykernel)",
   "language": "python",
   "name": "python3"
  },
  "language_info": {
   "codemirror_mode": {
    "name": "ipython",
    "version": 3
   },
   "file_extension": ".py",
   "mimetype": "text/x-python",
   "name": "python",
   "nbconvert_exporter": "python",
   "pygments_lexer": "ipython3",
   "version": "3.9.18"
  }
 },
 "nbformat": 4,
 "nbformat_minor": 5
}
